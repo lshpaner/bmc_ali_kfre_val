{
 "cells": [
  {
   "cell_type": "markdown",
   "metadata": {},
   "source": [
    "# Reproduction of Kidney Failure Risk Equation (KFRE)"
   ]
  },
  {
   "cell_type": "markdown",
   "metadata": {},
   "source": [
    "## Import Libraries"
   ]
  },
  {
   "cell_type": "code",
   "execution_count": 1,
   "metadata": {},
   "outputs": [],
   "source": [
    "########################### Import Requisite Libraries #########################\n",
    "import pandas as pd\n",
    "import numpy as np\n",
    "import os\n",
    "import sys\n",
    "import pprint\n",
    "\n",
    "################################################################################\n",
    "# Add the parent directory to sys.path to access 'functions.py'\n",
    "sys.path.append(os.path.join(os.pardir))\n",
    "from python_scripts.functions import *\n",
    "from kfre import add_kfre_risk_col  # import from kfre"
   ]
  },
  {
   "cell_type": "markdown",
   "metadata": {},
   "source": [
    "## Read in the Data"
   ]
  },
  {
   "cell_type": "code",
   "execution_count": 2,
   "metadata": {},
   "outputs": [
    {
     "name": "stdout",
     "output_type": "stream",
     "text": [
      "Directory exists: ..\\data\n",
      "Directory exists: ..\\images\\png_images\n",
      "Directory exists: ..\\images\\svg_images\n"
     ]
    }
   ],
   "source": [
    "base_path = os.path.join(os.pardir)\n",
    "\n",
    "# Go up one level from 'notebooks' to the parent directory, then into the 'data' folder\n",
    "data_path = os.path.join(os.pardir, \"data\")\n",
    "\n",
    "image_path_png = os.path.join(base_path, \"images\", \"png_images\")\n",
    "image_path_svg = os.path.join(base_path, \"images\", \"svg_images\")\n",
    "\n",
    "# Use the function to ensure the 'data' directory exists\n",
    "ensure_directory(data_path)\n",
    "ensure_directory(image_path_png)\n",
    "ensure_directory(image_path_svg)\n",
    "\n",
    "# Read the CSV file into a DataFrame\n",
    "df = pd.read_parquet(os.path.join(data_path, \"df.parquet\"))\n",
    "df_eda = pd.read_parquet(os.path.join(data_path, \"df_eda.parquet\"))"
   ]
  },
  {
   "cell_type": "code",
   "execution_count": 3,
   "metadata": {},
   "outputs": [],
   "source": [
    "# join back sex to original dataframe for eda dataframe so it can be used\n",
    "df = df.join(df_eda[\"SEX\"], on=\"Patient_ID\", how=\"inner\")"
   ]
  },
  {
   "cell_type": "code",
   "execution_count": 4,
   "metadata": {},
   "outputs": [],
   "source": [
    "df_kfre = df.copy(deep=True)"
   ]
  },
  {
   "cell_type": "code",
   "execution_count": 5,
   "metadata": {},
   "outputs": [
    {
     "data": {
      "text/plain": [
       "Index(['Age', 'Diabetes (1=yes; 0=no)', 'Hypertension (1=yes; 0=no)',\n",
       "       'Renal disease (DM=1, HTN=2, GN=3, ADPKD=4, Other=5)', 'eGFR-EPI',\n",
       "       'uPCR', 'Calcium (mmol/L)', 'Phosphate (mmol/L)',\n",
       "       'Bicarbonate (mmol/L)', 'Albumin (g/l)', 'Follow-up YEARS', 'RIP',\n",
       "       'ESRD', 'SEX_Female', 'SEX_Male',\n",
       "       'ETHNICITY_AFRICAN (BLACK OR BLACK BRITISH)',\n",
       "       'ETHNICITY_ANY OTHER ASIAN BACKGROUND',\n",
       "       'ETHNICITY_ANY OTHER BLACK BACKGROUND',\n",
       "       'ETHNICITY_ANY OTHER ETHNIC GROUP',\n",
       "       'ETHNICITY_ANY OTHER MIXED BACKGROUND',\n",
       "       'ETHNICITY_ANY OTHER WHITE BACKGROUND',\n",
       "       'ETHNICITY_BANGLADESHI (ASIAN OR ASIAN BRITISH)',\n",
       "       'ETHNICITY_CARIBBEAN (BLACK OR BLACK BRITISH)',\n",
       "       'ETHNICITY_CHINESE (OTHER ETHNIC GROUPS)',\n",
       "       'ETHNICITY_INDIAN (ASIAN OR ASIAN BRITISH)', 'ETHNICITY_NOT STATED',\n",
       "       'ETHNICITY_PAKISTANI (ASIAN OR ASIAN BRITISH)',\n",
       "       'ETHNICITY_WHITE AND BLACK AFRICAN (MIXED)', 'ETHNICITY_WHITE BRITISH',\n",
       "       'ETHNICITY_WHITE IRISH', 'Renal_Disease_APKD', 'Renal_Disease_DM',\n",
       "       'Renal_Disease_GN', 'Renal_Disease_HTN', 'Renal_Disease_Other',\n",
       "       'uPCR_mg_g', 'Calcium_mg_dl', 'Phosphate_mg_dl', 'Albumin_g_dl', 'uACR',\n",
       "       'SEX'],\n",
       "      dtype='object')"
      ]
     },
     "execution_count": 5,
     "metadata": {},
     "output_type": "execute_result"
    }
   ],
   "source": [
    "df_kfre.columns"
   ]
  },
  {
   "cell_type": "code",
   "execution_count": 6,
   "metadata": {},
   "outputs": [],
   "source": [
    "# subset the dataframe to include only relevant variables for the KFRE equation\n",
    "# Age, eGFR, log-normalized uACR, Diabetes, Hypertension\n",
    "df_kfre = df_kfre[\n",
    "    [\n",
    "        \"Age\",\n",
    "        \"SEX\",\n",
    "        \"eGFR-EPI\",\n",
    "        \"uACR\",\n",
    "        \"Diabetes (1=yes; 0=no)\",\n",
    "        \"Hypertension (1=yes; 0=no)\",\n",
    "        \"Albumin_g_dl\",\n",
    "        \"Calcium_mg_dl\",\n",
    "        \"Phosphate_mg_dl\",\n",
    "        \"Bicarbonate (mmol/L)\",\n",
    "        \"ESRD\",\n",
    "    ]\n",
    "]"
   ]
  },
  {
   "cell_type": "code",
   "execution_count": 7,
   "metadata": {},
   "outputs": [],
   "source": [
    "df_kfre[\"Region\"] = \"Non North American\""
   ]
  },
  {
   "cell_type": "code",
   "execution_count": 8,
   "metadata": {},
   "outputs": [],
   "source": [
    "df = add_kfre_risk_col(\n",
    "    df=df_kfre,\n",
    "    age_col=\"Age\",\n",
    "    sex_col=\"SEX\",\n",
    "    eGFR_col=\"eGFR-EPI\",\n",
    "    uACR_col=\"uACR\",\n",
    "    dm_col=\"Diabetes (1=yes; 0=no)\",\n",
    "    htn_col=\"Hypertension (1=yes; 0=no)\",\n",
    "    albumin_col=\"Albumin_g_dl\",\n",
    "    phosphorous_col=\"Phosphate_mg_dl\",\n",
    "    bicarbonate_col=\"Bicarbonate (mmol/L)\",\n",
    "    calcium_col=\"Calcium_mg_dl\",\n",
    "    num_vars=(4, 6, 8),\n",
    "    years=(2, 5),\n",
    "    is_north_american=False,\n",
    "    copy=False,  # Modify the original DataFrame directly\n",
    ")\n",
    "# The resulting DataFrame 'df_kfre' now includes new columns with risk\n",
    "# predictions for each model and time frame"
   ]
  },
  {
   "cell_type": "code",
   "execution_count": 9,
   "metadata": {},
   "outputs": [
    {
     "data": {
      "text/html": [
       "<div>\n",
       "<style scoped>\n",
       "    .dataframe tbody tr th:only-of-type {\n",
       "        vertical-align: middle;\n",
       "    }\n",
       "\n",
       "    .dataframe tbody tr th {\n",
       "        vertical-align: top;\n",
       "    }\n",
       "\n",
       "    .dataframe thead th {\n",
       "        text-align: right;\n",
       "    }\n",
       "</style>\n",
       "<table border=\"1\" class=\"dataframe\">\n",
       "  <thead>\n",
       "    <tr style=\"text-align: right;\">\n",
       "      <th></th>\n",
       "      <th>Age</th>\n",
       "      <th>SEX</th>\n",
       "      <th>eGFR-EPI</th>\n",
       "      <th>uACR</th>\n",
       "      <th>Diabetes (1=yes; 0=no)</th>\n",
       "      <th>Hypertension (1=yes; 0=no)</th>\n",
       "      <th>Albumin_g_dl</th>\n",
       "      <th>Calcium_mg_dl</th>\n",
       "      <th>Phosphate_mg_dl</th>\n",
       "      <th>Bicarbonate (mmol/L)</th>\n",
       "      <th>ESRD</th>\n",
       "      <th>Region</th>\n",
       "      <th>kfre_4var_2year</th>\n",
       "      <th>kfre_4var_5year</th>\n",
       "      <th>kfre_6var_2year</th>\n",
       "      <th>kfre_6var_5year</th>\n",
       "      <th>kfre_8var_2year</th>\n",
       "      <th>kfre_8var_5year</th>\n",
       "    </tr>\n",
       "    <tr>\n",
       "      <th>Patient_ID</th>\n",
       "      <th></th>\n",
       "      <th></th>\n",
       "      <th></th>\n",
       "      <th></th>\n",
       "      <th></th>\n",
       "      <th></th>\n",
       "      <th></th>\n",
       "      <th></th>\n",
       "      <th></th>\n",
       "      <th></th>\n",
       "      <th></th>\n",
       "      <th></th>\n",
       "      <th></th>\n",
       "      <th></th>\n",
       "      <th></th>\n",
       "      <th></th>\n",
       "      <th></th>\n",
       "      <th></th>\n",
       "    </tr>\n",
       "  </thead>\n",
       "  <tbody>\n",
       "    <tr>\n",
       "      <th>568268916</th>\n",
       "      <td>87.24</td>\n",
       "      <td>Male</td>\n",
       "      <td>19.0</td>\n",
       "      <td>102.438624</td>\n",
       "      <td>1.0</td>\n",
       "      <td>1.0</td>\n",
       "      <td>3.7</td>\n",
       "      <td>11.12</td>\n",
       "      <td>2.728</td>\n",
       "      <td>27.2</td>\n",
       "      <td>0</td>\n",
       "      <td>Non North American</td>\n",
       "      <td>0.067174</td>\n",
       "      <td>0.236057</td>\n",
       "      <td>0.064034</td>\n",
       "      <td>0.222093</td>\n",
       "      <td>0.029092</td>\n",
       "      <td>0.124367</td>\n",
       "    </tr>\n",
       "    <tr>\n",
       "      <th>659549633</th>\n",
       "      <td>56.88</td>\n",
       "      <td>Female</td>\n",
       "      <td>15.0</td>\n",
       "      <td>1762.039423</td>\n",
       "      <td>0.0</td>\n",
       "      <td>1.0</td>\n",
       "      <td>3.0</td>\n",
       "      <td>9.72</td>\n",
       "      <td>3.162</td>\n",
       "      <td>21.3</td>\n",
       "      <td>1</td>\n",
       "      <td>Non North American</td>\n",
       "      <td>0.449508</td>\n",
       "      <td>0.900886</td>\n",
       "      <td>0.485479</td>\n",
       "      <td>0.919696</td>\n",
       "      <td>0.413627</td>\n",
       "      <td>0.909392</td>\n",
       "    </tr>\n",
       "    <tr>\n",
       "      <th>406748956</th>\n",
       "      <td>66.53</td>\n",
       "      <td>Female</td>\n",
       "      <td>17.0</td>\n",
       "      <td>659.136129</td>\n",
       "      <td>0.0</td>\n",
       "      <td>1.0</td>\n",
       "      <td>3.6</td>\n",
       "      <td>9.32</td>\n",
       "      <td>3.844</td>\n",
       "      <td>27.8</td>\n",
       "      <td>0</td>\n",
       "      <td>Non North American</td>\n",
       "      <td>0.219611</td>\n",
       "      <td>0.617170</td>\n",
       "      <td>0.240018</td>\n",
       "      <td>0.647115</td>\n",
       "      <td>0.157298</td>\n",
       "      <td>0.536920</td>\n",
       "    </tr>\n",
       "    <tr>\n",
       "      <th>109228713</th>\n",
       "      <td>69.92</td>\n",
       "      <td>Male</td>\n",
       "      <td>12.0</td>\n",
       "      <td>1145.245058</td>\n",
       "      <td>0.0</td>\n",
       "      <td>1.0</td>\n",
       "      <td>3.9</td>\n",
       "      <td>9.16</td>\n",
       "      <td>5.580</td>\n",
       "      <td>20.7</td>\n",
       "      <td>1</td>\n",
       "      <td>Non North American</td>\n",
       "      <td>0.482800</td>\n",
       "      <td>0.922156</td>\n",
       "      <td>0.520907</td>\n",
       "      <td>0.938744</td>\n",
       "      <td>0.599700</td>\n",
       "      <td>0.983730</td>\n",
       "    </tr>\n",
       "    <tr>\n",
       "      <th>220533110</th>\n",
       "      <td>81.14</td>\n",
       "      <td>Female</td>\n",
       "      <td>15.0</td>\n",
       "      <td>980.939665</td>\n",
       "      <td>1.0</td>\n",
       "      <td>1.0</td>\n",
       "      <td>4.3</td>\n",
       "      <td>9.80</td>\n",
       "      <td>4.309</td>\n",
       "      <td>26.2</td>\n",
       "      <td>0</td>\n",
       "      <td>Non North American</td>\n",
       "      <td>0.235649</td>\n",
       "      <td>0.646748</td>\n",
       "      <td>0.226075</td>\n",
       "      <td>0.621908</td>\n",
       "      <td>0.147547</td>\n",
       "      <td>0.512324</td>\n",
       "    </tr>\n",
       "  </tbody>\n",
       "</table>\n",
       "</div>"
      ],
      "text/plain": [
       "              Age     SEX  eGFR-EPI         uACR  Diabetes (1=yes; 0=no)  \\\n",
       "Patient_ID                                                                 \n",
       "568268916   87.24    Male      19.0   102.438624                     1.0   \n",
       "659549633   56.88  Female      15.0  1762.039423                     0.0   \n",
       "406748956   66.53  Female      17.0   659.136129                     0.0   \n",
       "109228713   69.92    Male      12.0  1145.245058                     0.0   \n",
       "220533110   81.14  Female      15.0   980.939665                     1.0   \n",
       "\n",
       "            Hypertension (1=yes; 0=no)  Albumin_g_dl  Calcium_mg_dl  \\\n",
       "Patient_ID                                                            \n",
       "568268916                          1.0           3.7          11.12   \n",
       "659549633                          1.0           3.0           9.72   \n",
       "406748956                          1.0           3.6           9.32   \n",
       "109228713                          1.0           3.9           9.16   \n",
       "220533110                          1.0           4.3           9.80   \n",
       "\n",
       "            Phosphate_mg_dl  Bicarbonate (mmol/L)  ESRD              Region  \\\n",
       "Patient_ID                                                                    \n",
       "568268916             2.728                  27.2     0  Non North American   \n",
       "659549633             3.162                  21.3     1  Non North American   \n",
       "406748956             3.844                  27.8     0  Non North American   \n",
       "109228713             5.580                  20.7     1  Non North American   \n",
       "220533110             4.309                  26.2     0  Non North American   \n",
       "\n",
       "            kfre_4var_2year  kfre_4var_5year  kfre_6var_2year  \\\n",
       "Patient_ID                                                      \n",
       "568268916          0.067174         0.236057         0.064034   \n",
       "659549633          0.449508         0.900886         0.485479   \n",
       "406748956          0.219611         0.617170         0.240018   \n",
       "109228713          0.482800         0.922156         0.520907   \n",
       "220533110          0.235649         0.646748         0.226075   \n",
       "\n",
       "            kfre_6var_5year  kfre_8var_2year  kfre_8var_5year  \n",
       "Patient_ID                                                     \n",
       "568268916          0.222093         0.029092         0.124367  \n",
       "659549633          0.919696         0.413627         0.909392  \n",
       "406748956          0.647115         0.157298         0.536920  \n",
       "109228713          0.938744         0.599700         0.983730  \n",
       "220533110          0.621908         0.147547         0.512324  "
      ]
     },
     "execution_count": 9,
     "metadata": {},
     "output_type": "execute_result"
    }
   ],
   "source": [
    "df_kfre.head()"
   ]
  },
  {
   "cell_type": "markdown",
   "metadata": {},
   "source": [
    "## Validate the KFRE"
   ]
  },
  {
   "cell_type": "markdown",
   "metadata": {},
   "source": [
    "We can validate the KFRE for each individual patient using an online calculator like the one below:\n",
    "\n",
    "https://qxmd.com/calculate/calculator_308/kidney-failure-risk-equation-4-variable"
   ]
  },
  {
   "cell_type": "markdown",
   "metadata": {},
   "source": [
    "We can also validate the medians of the 4 variable, 6 variable, and 8 variable equations for the 2 year and 5 year outcomes, as shown below."
   ]
  },
  {
   "cell_type": "code",
   "execution_count": 10,
   "metadata": {},
   "outputs": [
    {
     "name": "stdout",
     "output_type": "stream",
     "text": [
      "Median of 4 variable, 2 year KFRE = 23%\n"
     ]
    }
   ],
   "source": [
    "med_2_year_4var = df_kfre[\"kfre_4var_2year\"].median()\n",
    "print(f\"Median of 4 variable, 2 year KFRE = {med_2_year_4var*100:.0f}%\")"
   ]
  },
  {
   "cell_type": "markdown",
   "metadata": {},
   "source": [
    "Ali et al. show a median value of 24 % for the 4 variable 2-year outcome."
   ]
  },
  {
   "cell_type": "code",
   "execution_count": 11,
   "metadata": {},
   "outputs": [
    {
     "name": "stdout",
     "output_type": "stream",
     "text": [
      "Median of 4 variable, 5 year KFRE = 64%\n"
     ]
    }
   ],
   "source": [
    "med_5_year_4var = df_kfre[\"kfre_4var_5year\"].median()\n",
    "print(f\"Median of 4 variable, 5 year KFRE = {med_5_year_4var*100:.0f}%\")"
   ]
  },
  {
   "cell_type": "markdown",
   "metadata": {},
   "source": [
    "Ali et al. show a median value of 65 % for the 4 variable 5-year outcome."
   ]
  },
  {
   "cell_type": "code",
   "execution_count": 12,
   "metadata": {},
   "outputs": [
    {
     "name": "stdout",
     "output_type": "stream",
     "text": [
      "Median of 8 variable, 2 year KFRE = 20%\n"
     ]
    }
   ],
   "source": [
    "med_2_year_8var = df_kfre[\"kfre_8var_2year\"].median()\n",
    "print(f\"Median of 8 variable, 2 year KFRE = {med_2_year_8var*100:.0f}%\")"
   ]
  },
  {
   "cell_type": "markdown",
   "metadata": {},
   "source": [
    "Ali et al. show a median value of 20% for the 8 variable 2-year outcome."
   ]
  },
  {
   "cell_type": "code",
   "execution_count": 13,
   "metadata": {},
   "outputs": [
    {
     "name": "stdout",
     "output_type": "stream",
     "text": [
      "Median of 8 variable, 5 year KFRE = 64%\n"
     ]
    }
   ],
   "source": [
    "med_5_year_8var = df_kfre[\"kfre_8var_5year\"].median()\n",
    "print(f\"Median of 8 variable, 5 year KFRE = {med_5_year_8var*100:.0f}%\")"
   ]
  },
  {
   "cell_type": "markdown",
   "metadata": {},
   "source": [
    "Ali et al. show a median value of 64% for the 8 variable 5-year outcome."
   ]
  },
  {
   "cell_type": "markdown",
   "metadata": {},
   "source": [
    "While the median percentages for the 4-variable 2-year and 5-year outcomes differ by 1%, the median percentages for the 8-variable equations are identical. These discrepancies can be attributed to rounding differences."
   ]
  },
  {
   "cell_type": "markdown",
   "metadata": {},
   "source": [
    "## References\n",
    "\n",
    "Ali, I., Donne, R. L., & Kalra, P. A. (2021). A validation study of the kidney failure risk equation in advanced chronic kidney disease according to disease aetiology with evaluation of discrimination, calibration and clinical utility. *BMC Nephrology, 22(1),* 194.  doi: 10.1186/s12882-021-02402-1\n",
    "\n",
    "Sumida K, Nadkarni GN, Grams ME, Sang Y, Ballew SH, Coresh J, Matsushita K, Surapaneni A, Brunskill N, Chadban SJ, Chang AR, Cirillo M, Daratha KB, Gansevoort RT, Garg AX, Iacoviello L, Kayama T, Konta T, Kovesdy CP, Lash J, Lee BJ, Major RW, Metzger M, Miura K, Naimark DMJ, Nelson RG, Sawhney S, Stempniewicz N, Tang M, Townsend RR, Traynor JP, Valdivielso JM, Wetzels J, Polkinghorne KR, Heerspink HJL, for the Chronic Kidney Disease Prognosis Consortium. (2020). Conversion of urine protein-creatinine ratio or urine dipstick protein to urine albumin-creatinine ratio for use in chronic kidney disease screening and prognosis. *Ann Intern Med,* ***173***(6), 426-435. doi: 10.7326/M20-0529.\n",
    "\n",
    "Tangri, N., Stevens, L. A., Griffith, J., Tighiouart, H., Djurdjev, O., Naimark, D., Levin, A., & Levey, A. S. (2011). *A predictive model for progression of chronic kidney disease to kidney failure. JAMA,* **305**(15), 1553-1559. doi: 10.1001/jama.2011.451.  \n",
    "\n",
    "Tangri N, Grams ME, Levey AS, Coresh J, Appel LJ, Astor BC, Chodick G, Collins AJ, Djurdjev O, Elley CR, Evans M, Garg AX, Hallan SI, Inker LA, Ito S, Jee SH, Kovesdy CP, Kronenberg F, Heerspink HJL, Marks A, Nadkarni GN, Navaneethan SD, Nelson RG, Titze S, Sarnak MJ, Stengel B, Woodward M, Iseki K, for the CKD Prognosis Consortium. (2016). *Multinational assessment of accuracy of equations for predicting risk of kidney failure: A meta-analysis. JAMA,* **315**(2), 164–174. doi: 10.1001/jama.2015.18202.\n",
    "\n"
   ]
  }
 ],
 "metadata": {
  "kernelspec": {
   "display_name": "custom_conda",
   "language": "python",
   "name": "python3"
  },
  "language_info": {
   "codemirror_mode": {
    "name": "ipython",
    "version": 3
   },
   "file_extension": ".py",
   "mimetype": "text/x-python",
   "name": "python",
   "nbconvert_exporter": "python",
   "pygments_lexer": "ipython3",
   "version": "3.8.19"
  }
 },
 "nbformat": 4,
 "nbformat_minor": 2
}
