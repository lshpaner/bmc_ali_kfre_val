{
 "cells": [
  {
   "cell_type": "markdown",
   "metadata": {},
   "source": [
    "# Reproduction of Tangri et al.'s Kidney Failure Risk Equation (KFRE)"
   ]
  },
  {
   "cell_type": "markdown",
   "metadata": {},
   "source": [
    "## Import Libraries"
   ]
  },
  {
   "cell_type": "code",
   "execution_count": 1,
   "metadata": {},
   "outputs": [],
   "source": [
    "########################### Import Requisite Libraries #########################\n",
    "import pandas as pd\n",
    "import numpy as np\n",
    "import os\n",
    "import sys\n",
    "import pprint\n",
    "\n",
    "################################################################################\n",
    "# Add the parent directory to sys.path to access 'functions.py'\n",
    "sys.path.append(os.path.join(os.pardir))\n",
    "from python_scripts.functions import *\n",
    "from python_scripts.kfre import *"
   ]
  },
  {
   "cell_type": "markdown",
   "metadata": {},
   "source": [
    "## Read in the Data"
   ]
  },
  {
   "cell_type": "code",
   "execution_count": 2,
   "metadata": {},
   "outputs": [
    {
     "name": "stdout",
     "output_type": "stream",
     "text": [
      "Directory exists: ..\\data\n",
      "Directory exists: ..\\images\\png_images\n",
      "Directory exists: ..\\images\\svg_images\n"
     ]
    }
   ],
   "source": [
    "base_path = os.path.join(os.pardir)\n",
    "\n",
    "# Go up one level from 'notebooks' to the parent directory, then into the 'data' folder\n",
    "data_path = os.path.join(os.pardir, \"data\")\n",
    "\n",
    "image_path_png = os.path.join(base_path, \"images\", \"png_images\")\n",
    "image_path_svg = os.path.join(base_path, \"images\", \"svg_images\")\n",
    "\n",
    "# Use the function to ensure the 'data' directory exists\n",
    "ensure_directory(data_path)\n",
    "ensure_directory(image_path_png)\n",
    "ensure_directory(image_path_svg)\n",
    "\n",
    "# Read the CSV file into a DataFrame\n",
    "df = pd.read_parquet(os.path.join(data_path, \"df.parquet\"))\n",
    "df_eda = pd.read_parquet(os.path.join(data_path, \"df_eda.parquet\"))"
   ]
  },
  {
   "cell_type": "code",
   "execution_count": 3,
   "metadata": {},
   "outputs": [],
   "source": [
    "# join back sex to original dataframe for eda dataframe so it can be used\n",
    "df = df.join(df_eda[\"SEX\"], on=\"Patient_ID\", how=\"inner\")"
   ]
  },
  {
   "cell_type": "code",
   "execution_count": 4,
   "metadata": {},
   "outputs": [],
   "source": [
    "df_kfre = df.copy(deep=True)"
   ]
  },
  {
   "cell_type": "code",
   "execution_count": 5,
   "metadata": {},
   "outputs": [
    {
     "data": {
      "text/plain": [
       "Index(['Age', 'Diabetes (1=yes; 0=no)', 'Hypertension (1=yes; 0=no)',\n",
       "       'Renal disease (DM=1, HTN=2, GN=3, ADPKD=4, Other=5)', 'eGFR-EPI',\n",
       "       'uPCR', 'Calcium (mmol/L)', 'Phosphate (mmol/L)',\n",
       "       'Bicarbonate (mmol/L)', 'Albumin (g/l)', 'Follow-up YEARS', 'RIP',\n",
       "       'ESRD', 'SEX_Female', 'SEX_Male',\n",
       "       'ETHNICITY_AFRICAN (BLACK OR BLACK BRITISH)',\n",
       "       'ETHNICITY_ANY OTHER ASIAN BACKGROUND',\n",
       "       'ETHNICITY_ANY OTHER BLACK BACKGROUND',\n",
       "       'ETHNICITY_ANY OTHER ETHNIC GROUP',\n",
       "       'ETHNICITY_ANY OTHER MIXED BACKGROUND',\n",
       "       'ETHNICITY_ANY OTHER WHITE BACKGROUND',\n",
       "       'ETHNICITY_BANGLADESHI (ASIAN OR ASIAN BRITISH)',\n",
       "       'ETHNICITY_CARIBBEAN (BLACK OR BLACK BRITISH)',\n",
       "       'ETHNICITY_CHINESE (OTHER ETHNIC GROUPS)',\n",
       "       'ETHNICITY_INDIAN (ASIAN OR ASIAN BRITISH)', 'ETHNICITY_NOT STATED',\n",
       "       'ETHNICITY_PAKISTANI (ASIAN OR ASIAN BRITISH)',\n",
       "       'ETHNICITY_WHITE AND BLACK AFRICAN (MIXED)', 'ETHNICITY_WHITE BRITISH',\n",
       "       'ETHNICITY_WHITE IRISH', 'Renal_Disease_APKD', 'Renal_Disease_DM',\n",
       "       'Renal_Disease_GN', 'Renal_Disease_HTN', 'Renal_Disease_Other',\n",
       "       'uPCR (mg/g)', 'Calcium (mg/dL)', 'Phosphate (mg/dL)', 'Albumin (g/dL)',\n",
       "       'uACR', 'SEX'],\n",
       "      dtype='object')"
      ]
     },
     "execution_count": 5,
     "metadata": {},
     "output_type": "execute_result"
    }
   ],
   "source": [
    "df_kfre.columns"
   ]
  },
  {
   "cell_type": "code",
   "execution_count": 6,
   "metadata": {},
   "outputs": [
    {
     "data": {
      "text/plain": [
       "['Bicarbonate (mmol/L)']"
      ]
     },
     "execution_count": 6,
     "metadata": {},
     "output_type": "execute_result"
    }
   ],
   "source": [
    "[col for col in df.columns if \"Bicarb\" in col]"
   ]
  },
  {
   "cell_type": "code",
   "execution_count": 7,
   "metadata": {},
   "outputs": [
    {
     "data": {
      "text/plain": [
       "21.8"
      ]
     },
     "execution_count": 7,
     "metadata": {},
     "output_type": "execute_result"
    }
   ],
   "source": [
    "df[\"Bicarbonate (mmol/L)\"].median()"
   ]
  },
  {
   "cell_type": "code",
   "execution_count": 8,
   "metadata": {},
   "outputs": [],
   "source": [
    "# subset the dataframe to include only relevant variables for the KFRE equation\n",
    "# Age, eGFR, log-normalized uACR, Diabetes, Hypertension\n",
    "df_kfre = df_kfre[\n",
    "    [\n",
    "        \"Age\",\n",
    "        \"SEX\",\n",
    "        \"eGFR-EPI\",\n",
    "        \"uACR\",\n",
    "        \"Diabetes (1=yes; 0=no)\",\n",
    "        \"Hypertension (1=yes; 0=no)\",\n",
    "        \"Albumin (g/dL)\",\n",
    "        \"Calcium (mg/dL)\",\n",
    "        \"Phosphate (mg/dL)\",\n",
    "        \"Bicarbonate (mmol/L)\",\n",
    "        \"ESRD\",\n",
    "    ]\n",
    "]"
   ]
  },
  {
   "cell_type": "code",
   "execution_count": 9,
   "metadata": {},
   "outputs": [],
   "source": [
    "columns = {\n",
    "    \"age\": \"Age\",\n",
    "    \"sex\": \"SEX\",\n",
    "    \"eGFR\": \"eGFR-EPI\",\n",
    "    \"uACR\": \"uACR\",\n",
    "    \"region\": \"Region\",\n",
    "    \"dm\": \"Diabetes (1=yes; 0=no)\",\n",
    "    \"htn\": \"Hypertension (1=yes; 0=no)\",\n",
    "    \"albumin\": \"Albumin (g/dL)\",\n",
    "    \"phosphorous\": \"Phosphate (mg/dL)\",\n",
    "    \"bicarbonate\": \"Bicarbonate (mmol/L)\",\n",
    "    \"calcium\": \"Calcium (mg/dL)\",\n",
    "}\n",
    "\n",
    "predictor = RiskPredictor(data=df_kfre, columns=columns)\n",
    "\n",
    "# Predict risk for different combinations of years and variables\n",
    "pred_4var_2year = predictor.predict_kfre(years=2, is_north_american=False)\n",
    "pred_4var_5year = predictor.predict_kfre(years=5, is_north_american=False)\n",
    "pred_6var_2year = predictor.predict_kfre(\n",
    "    years=2, is_north_american=False, use_extra_vars=True, num_vars=6\n",
    ")\n",
    "pred_6var_5year = predictor.predict_kfre(\n",
    "    years=5, is_north_american=False, use_extra_vars=True, num_vars=6\n",
    ")\n",
    "\n",
    "pred_8var_2year = predictor.predict_kfre(\n",
    "    years=2, is_north_american=False, use_extra_vars=True, num_vars=8\n",
    ")\n",
    "pred_8var_5year = predictor.predict_kfre(\n",
    "    years=5, is_north_american=False, use_extra_vars=True, num_vars=8\n",
    ")\n",
    "\n",
    "# inner join the different combinations of years and variables to\n",
    "# kfre_inclusion dataframe\n",
    "df_kfre = df_kfre.assign(\n",
    "    pred_4var_2year=pred_4var_2year,\n",
    "    pred_4var_5year=pred_4var_5year,\n",
    "    pred_6var_2year=pred_6var_2year,\n",
    "    pred_6var_5year=pred_6var_5year,\n",
    "    pred_8var_2year=pred_8var_2year,\n",
    "    pred_8var_5year=pred_8var_5year,\n",
    ")"
   ]
  },
  {
   "cell_type": "code",
   "execution_count": 10,
   "metadata": {},
   "outputs": [
    {
     "data": {
      "text/html": [
       "<div>\n",
       "<style scoped>\n",
       "    .dataframe tbody tr th:only-of-type {\n",
       "        vertical-align: middle;\n",
       "    }\n",
       "\n",
       "    .dataframe tbody tr th {\n",
       "        vertical-align: top;\n",
       "    }\n",
       "\n",
       "    .dataframe thead th {\n",
       "        text-align: right;\n",
       "    }\n",
       "</style>\n",
       "<table border=\"1\" class=\"dataframe\">\n",
       "  <thead>\n",
       "    <tr style=\"text-align: right;\">\n",
       "      <th></th>\n",
       "      <th>Age</th>\n",
       "      <th>SEX</th>\n",
       "      <th>eGFR-EPI</th>\n",
       "      <th>uACR</th>\n",
       "      <th>Diabetes (1=yes; 0=no)</th>\n",
       "      <th>Hypertension (1=yes; 0=no)</th>\n",
       "      <th>Albumin (g/dL)</th>\n",
       "      <th>Calcium (mg/dL)</th>\n",
       "      <th>Phosphate (mg/dL)</th>\n",
       "      <th>Bicarbonate (mmol/L)</th>\n",
       "      <th>ESRD</th>\n",
       "      <th>pred_4var_2year</th>\n",
       "      <th>pred_4var_5year</th>\n",
       "      <th>pred_6var_2year</th>\n",
       "      <th>pred_6var_5year</th>\n",
       "      <th>pred_8var_2year</th>\n",
       "      <th>pred_8var_5year</th>\n",
       "    </tr>\n",
       "    <tr>\n",
       "      <th>Patient_ID</th>\n",
       "      <th></th>\n",
       "      <th></th>\n",
       "      <th></th>\n",
       "      <th></th>\n",
       "      <th></th>\n",
       "      <th></th>\n",
       "      <th></th>\n",
       "      <th></th>\n",
       "      <th></th>\n",
       "      <th></th>\n",
       "      <th></th>\n",
       "      <th></th>\n",
       "      <th></th>\n",
       "      <th></th>\n",
       "      <th></th>\n",
       "      <th></th>\n",
       "      <th></th>\n",
       "    </tr>\n",
       "  </thead>\n",
       "  <tbody>\n",
       "    <tr>\n",
       "      <th>568268916</th>\n",
       "      <td>87.24</td>\n",
       "      <td>Male</td>\n",
       "      <td>19.0</td>\n",
       "      <td>102.435547</td>\n",
       "      <td>1.0</td>\n",
       "      <td>1.0</td>\n",
       "      <td>3.7</td>\n",
       "      <td>11.12</td>\n",
       "      <td>2.728</td>\n",
       "      <td>27.2</td>\n",
       "      <td>0</td>\n",
       "      <td>0.067174</td>\n",
       "      <td>0.236054</td>\n",
       "      <td>0.064697</td>\n",
       "      <td>0.224182</td>\n",
       "      <td>0.029092</td>\n",
       "      <td>0.124365</td>\n",
       "    </tr>\n",
       "    <tr>\n",
       "      <th>659549633</th>\n",
       "      <td>56.88</td>\n",
       "      <td>Female</td>\n",
       "      <td>15.0</td>\n",
       "      <td>1762.001840</td>\n",
       "      <td>0.0</td>\n",
       "      <td>1.0</td>\n",
       "      <td>3.0</td>\n",
       "      <td>9.72</td>\n",
       "      <td>3.162</td>\n",
       "      <td>21.3</td>\n",
       "      <td>1</td>\n",
       "      <td>0.449505</td>\n",
       "      <td>0.900884</td>\n",
       "      <td>0.485949</td>\n",
       "      <td>0.919974</td>\n",
       "      <td>0.413625</td>\n",
       "      <td>0.909390</td>\n",
       "    </tr>\n",
       "    <tr>\n",
       "      <th>406748956</th>\n",
       "      <td>66.53</td>\n",
       "      <td>Female</td>\n",
       "      <td>17.0</td>\n",
       "      <td>659.122070</td>\n",
       "      <td>0.0</td>\n",
       "      <td>1.0</td>\n",
       "      <td>3.6</td>\n",
       "      <td>9.32</td>\n",
       "      <td>3.844</td>\n",
       "      <td>27.8</td>\n",
       "      <td>0</td>\n",
       "      <td>0.219609</td>\n",
       "      <td>0.617166</td>\n",
       "      <td>0.241500</td>\n",
       "      <td>0.649720</td>\n",
       "      <td>0.157297</td>\n",
       "      <td>0.536917</td>\n",
       "    </tr>\n",
       "    <tr>\n",
       "      <th>109228713</th>\n",
       "      <td>69.92</td>\n",
       "      <td>Male</td>\n",
       "      <td>12.0</td>\n",
       "      <td>1145.220631</td>\n",
       "      <td>0.0</td>\n",
       "      <td>1.0</td>\n",
       "      <td>3.9</td>\n",
       "      <td>9.16</td>\n",
       "      <td>5.580</td>\n",
       "      <td>20.7</td>\n",
       "      <td>1</td>\n",
       "      <td>0.482796</td>\n",
       "      <td>0.922154</td>\n",
       "      <td>0.520481</td>\n",
       "      <td>0.938537</td>\n",
       "      <td>0.599697</td>\n",
       "      <td>0.983729</td>\n",
       "    </tr>\n",
       "    <tr>\n",
       "      <th>220533110</th>\n",
       "      <td>81.14</td>\n",
       "      <td>Female</td>\n",
       "      <td>15.0</td>\n",
       "      <td>980.918742</td>\n",
       "      <td>1.0</td>\n",
       "      <td>1.0</td>\n",
       "      <td>4.3</td>\n",
       "      <td>9.80</td>\n",
       "      <td>4.309</td>\n",
       "      <td>26.2</td>\n",
       "      <td>0</td>\n",
       "      <td>0.235647</td>\n",
       "      <td>0.646744</td>\n",
       "      <td>0.227775</td>\n",
       "      <td>0.625051</td>\n",
       "      <td>0.147546</td>\n",
       "      <td>0.512321</td>\n",
       "    </tr>\n",
       "  </tbody>\n",
       "</table>\n",
       "</div>"
      ],
      "text/plain": [
       "              Age     SEX  eGFR-EPI         uACR  Diabetes (1=yes; 0=no)  \\\n",
       "Patient_ID                                                                 \n",
       "568268916   87.24    Male      19.0   102.435547                     1.0   \n",
       "659549633   56.88  Female      15.0  1762.001840                     0.0   \n",
       "406748956   66.53  Female      17.0   659.122070                     0.0   \n",
       "109228713   69.92    Male      12.0  1145.220631                     0.0   \n",
       "220533110   81.14  Female      15.0   980.918742                     1.0   \n",
       "\n",
       "            Hypertension (1=yes; 0=no)  Albumin (g/dL)  Calcium (mg/dL)  \\\n",
       "Patient_ID                                                                \n",
       "568268916                          1.0             3.7            11.12   \n",
       "659549633                          1.0             3.0             9.72   \n",
       "406748956                          1.0             3.6             9.32   \n",
       "109228713                          1.0             3.9             9.16   \n",
       "220533110                          1.0             4.3             9.80   \n",
       "\n",
       "            Phosphate (mg/dL)  Bicarbonate (mmol/L)  ESRD  pred_4var_2year  \\\n",
       "Patient_ID                                                                   \n",
       "568268916               2.728                  27.2     0         0.067174   \n",
       "659549633               3.162                  21.3     1         0.449505   \n",
       "406748956               3.844                  27.8     0         0.219609   \n",
       "109228713               5.580                  20.7     1         0.482796   \n",
       "220533110               4.309                  26.2     0         0.235647   \n",
       "\n",
       "            pred_4var_5year  pred_6var_2year  pred_6var_5year  \\\n",
       "Patient_ID                                                      \n",
       "568268916          0.236054         0.064697         0.224182   \n",
       "659549633          0.900884         0.485949         0.919974   \n",
       "406748956          0.617166         0.241500         0.649720   \n",
       "109228713          0.922154         0.520481         0.938537   \n",
       "220533110          0.646744         0.227775         0.625051   \n",
       "\n",
       "            pred_8var_2year  pred_8var_5year  \n",
       "Patient_ID                                    \n",
       "568268916          0.029092         0.124365  \n",
       "659549633          0.413625         0.909390  \n",
       "406748956          0.157297         0.536917  \n",
       "109228713          0.599697         0.983729  \n",
       "220533110          0.147546         0.512321  "
      ]
     },
     "execution_count": 10,
     "metadata": {},
     "output_type": "execute_result"
    }
   ],
   "source": [
    "df_kfre.head()"
   ]
  },
  {
   "cell_type": "code",
   "execution_count": 11,
   "metadata": {},
   "outputs": [
    {
     "data": {
      "text/plain": [
       "21.8"
      ]
     },
     "execution_count": 11,
     "metadata": {},
     "output_type": "execute_result"
    }
   ],
   "source": [
    "df[\"Bicarbonate (mmol/L)\"].median()"
   ]
  },
  {
   "cell_type": "code",
   "execution_count": 12,
   "metadata": {},
   "outputs": [
    {
     "data": {
      "text/plain": [
       "0.23065730964986586"
      ]
     },
     "execution_count": 12,
     "metadata": {},
     "output_type": "execute_result"
    }
   ],
   "source": [
    "df_kfre[\"pred_4var_2year\"].median()"
   ]
  },
  {
   "cell_type": "code",
   "execution_count": 13,
   "metadata": {},
   "outputs": [
    {
     "data": {
      "text/plain": [
       "0.6396378292796349"
      ]
     },
     "execution_count": 13,
     "metadata": {},
     "output_type": "execute_result"
    }
   ],
   "source": [
    "df_kfre[\"pred_8var_5year\"].median()"
   ]
  }
 ],
 "metadata": {
  "kernelspec": {
   "display_name": "custom_conda",
   "language": "python",
   "name": "python3"
  },
  "language_info": {
   "codemirror_mode": {
    "name": "ipython",
    "version": 3
   },
   "file_extension": ".py",
   "mimetype": "text/x-python",
   "name": "python",
   "nbconvert_exporter": "python",
   "pygments_lexer": "ipython3",
   "version": "3.8.3"
  }
 },
 "nbformat": 4,
 "nbformat_minor": 2
}
