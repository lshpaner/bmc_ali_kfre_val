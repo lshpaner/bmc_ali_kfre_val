{
 "cells": [
  {
   "cell_type": "markdown",
   "metadata": {},
   "source": [
    "# Preprocessing"
   ]
  },
  {
   "cell_type": "markdown",
   "metadata": {},
   "source": [
    "## Import Libraries"
   ]
  },
  {
   "cell_type": "code",
   "execution_count": 1,
   "metadata": {},
   "outputs": [],
   "source": [
    "########################### Import Requisite Libraries #########################\n",
    "import pandas as pd\n",
    "import numpy as np\n",
    "import os\n",
    "import sys\n",
    "import pprint\n",
    "\n",
    "################################################################################\n",
    "# Add the parent directory to sys.path to access 'functions.py'\n",
    "sys.path.append(os.path.join(os.pardir))\n",
    "from python_scripts.functions import *"
   ]
  },
  {
   "cell_type": "markdown",
   "metadata": {},
   "source": [
    "## Read in the Data"
   ]
  },
  {
   "cell_type": "code",
   "execution_count": 2,
   "metadata": {},
   "outputs": [
    {
     "name": "stdout",
     "output_type": "stream",
     "text": [
      "Directory exists: ..\\data\n",
      "Directory exists: ..\\images\\png_images\n",
      "Directory exists: ..\\images\\svg_images\n"
     ]
    }
   ],
   "source": [
    "base_path = os.path.join(os.pardir)\n",
    "\n",
    "# Go up one level from 'notebooks' to the parent directory, then into the 'data' folder\n",
    "data_path = os.path.join(os.pardir, \"data\")\n",
    "\n",
    "image_path_png = os.path.join(base_path, \"images\", \"png_images\")\n",
    "image_path_svg = os.path.join(base_path, \"images\", \"svg_images\")\n",
    "\n",
    "# Use the function to ensure the 'data' directory exists\n",
    "ensure_directory(data_path)\n",
    "ensure_directory(image_path_png)\n",
    "ensure_directory(image_path_svg)\n",
    "\n",
    "# Read the CSV file into a DataFrame\n",
    "df = pd.read_csv(os.path.join(data_path, \"12882_2021_2402_MOESM8_ESM.csv\"))"
   ]
  },
  {
   "cell_type": "code",
   "execution_count": 3,
   "metadata": {},
   "outputs": [],
   "source": [
    "df = add_patient_ids(df=df, seed=33)  # call the function on the df to add patient_ids"
   ]
  },
  {
   "cell_type": "code",
   "execution_count": 4,
   "metadata": {},
   "outputs": [
    {
     "data": {
      "text/html": [
       "<div>\n",
       "<style scoped>\n",
       "    .dataframe tbody tr th:only-of-type {\n",
       "        vertical-align: middle;\n",
       "    }\n",
       "\n",
       "    .dataframe tbody tr th {\n",
       "        vertical-align: top;\n",
       "    }\n",
       "\n",
       "    .dataframe thead th {\n",
       "        text-align: right;\n",
       "    }\n",
       "</style>\n",
       "<table border=\"1\" class=\"dataframe\">\n",
       "  <thead>\n",
       "    <tr style=\"text-align: right;\">\n",
       "      <th></th>\n",
       "      <th>Attendance date</th>\n",
       "      <th>Age</th>\n",
       "      <th>SEX</th>\n",
       "      <th>ETHNICITY</th>\n",
       "      <th>Diabetes (1=yes; 0=no)</th>\n",
       "      <th>Hypertension (1=yes; 0=no)</th>\n",
       "      <th>Renal disease (DM=1, HTN=2, GN=3, ADPKD=4, Other=5)</th>\n",
       "      <th>eGFR-EPI</th>\n",
       "      <th>uPCR</th>\n",
       "      <th>Calcium (mmol/L)</th>\n",
       "      <th>Phosphate (mmol/L)</th>\n",
       "      <th>Bicarbonate (mmol/L)</th>\n",
       "      <th>Albumin (g/l)</th>\n",
       "      <th>Follow-up YEARS</th>\n",
       "      <th>RIP</th>\n",
       "      <th>ESRD</th>\n",
       "    </tr>\n",
       "    <tr>\n",
       "      <th>Patient_ID</th>\n",
       "      <th></th>\n",
       "      <th></th>\n",
       "      <th></th>\n",
       "      <th></th>\n",
       "      <th></th>\n",
       "      <th></th>\n",
       "      <th></th>\n",
       "      <th></th>\n",
       "      <th></th>\n",
       "      <th></th>\n",
       "      <th></th>\n",
       "      <th></th>\n",
       "      <th></th>\n",
       "      <th></th>\n",
       "      <th></th>\n",
       "      <th></th>\n",
       "    </tr>\n",
       "  </thead>\n",
       "  <tbody>\n",
       "    <tr>\n",
       "      <th>568268916</th>\n",
       "      <td>11/02/2015</td>\n",
       "      <td>87.24</td>\n",
       "      <td>Male</td>\n",
       "      <td>WHITE BRITISH</td>\n",
       "      <td>1.0</td>\n",
       "      <td>1.0</td>\n",
       "      <td>1.0</td>\n",
       "      <td>19.0</td>\n",
       "      <td>33.0</td>\n",
       "      <td>2.78</td>\n",
       "      <td>0.88</td>\n",
       "      <td>27.2</td>\n",
       "      <td>37.0</td>\n",
       "      <td>5.7</td>\n",
       "      <td>NaN</td>\n",
       "      <td>NaN</td>\n",
       "    </tr>\n",
       "    <tr>\n",
       "      <th>659549633</th>\n",
       "      <td>06/05/2015</td>\n",
       "      <td>56.88</td>\n",
       "      <td>Female</td>\n",
       "      <td>WHITE BRITISH</td>\n",
       "      <td>0.0</td>\n",
       "      <td>1.0</td>\n",
       "      <td>5.0</td>\n",
       "      <td>15.0</td>\n",
       "      <td>395.0</td>\n",
       "      <td>2.43</td>\n",
       "      <td>1.02</td>\n",
       "      <td>21.3</td>\n",
       "      <td>30.0</td>\n",
       "      <td>1.5</td>\n",
       "      <td>NaN</td>\n",
       "      <td>1.0</td>\n",
       "    </tr>\n",
       "    <tr>\n",
       "      <th>406748956</th>\n",
       "      <td>04/05/2016</td>\n",
       "      <td>66.53</td>\n",
       "      <td>Female</td>\n",
       "      <td>WHITE BRITISH</td>\n",
       "      <td>0.0</td>\n",
       "      <td>1.0</td>\n",
       "      <td>3.0</td>\n",
       "      <td>17.0</td>\n",
       "      <td>163.0</td>\n",
       "      <td>2.33</td>\n",
       "      <td>1.24</td>\n",
       "      <td>27.8</td>\n",
       "      <td>36.0</td>\n",
       "      <td>0.6</td>\n",
       "      <td>1.0</td>\n",
       "      <td>NaN</td>\n",
       "    </tr>\n",
       "    <tr>\n",
       "      <th>109228713</th>\n",
       "      <td>16/11/2011</td>\n",
       "      <td>69.92</td>\n",
       "      <td>Male</td>\n",
       "      <td>WHITE IRISH</td>\n",
       "      <td>0.0</td>\n",
       "      <td>1.0</td>\n",
       "      <td>3.0</td>\n",
       "      <td>12.0</td>\n",
       "      <td>250.0</td>\n",
       "      <td>2.29</td>\n",
       "      <td>1.80</td>\n",
       "      <td>20.7</td>\n",
       "      <td>39.0</td>\n",
       "      <td>1.1</td>\n",
       "      <td>NaN</td>\n",
       "      <td>1.0</td>\n",
       "    </tr>\n",
       "    <tr>\n",
       "      <th>220533110</th>\n",
       "      <td>02/05/2018</td>\n",
       "      <td>81.14</td>\n",
       "      <td>Female</td>\n",
       "      <td>WHITE BRITISH</td>\n",
       "      <td>1.0</td>\n",
       "      <td>1.0</td>\n",
       "      <td>1.0</td>\n",
       "      <td>15.0</td>\n",
       "      <td>217.0</td>\n",
       "      <td>2.45</td>\n",
       "      <td>1.39</td>\n",
       "      <td>26.2</td>\n",
       "      <td>43.0</td>\n",
       "      <td>2.5</td>\n",
       "      <td>NaN</td>\n",
       "      <td>NaN</td>\n",
       "    </tr>\n",
       "  </tbody>\n",
       "</table>\n",
       "</div>"
      ],
      "text/plain": [
       "           Attendance date    Age     SEX      ETHNICITY  \\\n",
       "Patient_ID                                                 \n",
       "568268916       11/02/2015  87.24    Male  WHITE BRITISH   \n",
       "659549633       06/05/2015  56.88  Female  WHITE BRITISH   \n",
       "406748956       04/05/2016  66.53  Female  WHITE BRITISH   \n",
       "109228713       16/11/2011  69.92    Male    WHITE IRISH   \n",
       "220533110       02/05/2018  81.14  Female  WHITE BRITISH   \n",
       "\n",
       "            Diabetes (1=yes; 0=no)  Hypertension (1=yes; 0=no)  \\\n",
       "Patient_ID                                                       \n",
       "568268916                      1.0                         1.0   \n",
       "659549633                      0.0                         1.0   \n",
       "406748956                      0.0                         1.0   \n",
       "109228713                      0.0                         1.0   \n",
       "220533110                      1.0                         1.0   \n",
       "\n",
       "            Renal disease (DM=1, HTN=2, GN=3, ADPKD=4, Other=5)  eGFR-EPI  \\\n",
       "Patient_ID                                                                  \n",
       "568268916                                                 1.0        19.0   \n",
       "659549633                                                 5.0        15.0   \n",
       "406748956                                                 3.0        17.0   \n",
       "109228713                                                 3.0        12.0   \n",
       "220533110                                                 1.0        15.0   \n",
       "\n",
       "             uPCR  Calcium (mmol/L)  Phosphate (mmol/L)  Bicarbonate (mmol/L)  \\\n",
       "Patient_ID                                                                      \n",
       "568268916    33.0              2.78                0.88                  27.2   \n",
       "659549633   395.0              2.43                1.02                  21.3   \n",
       "406748956   163.0              2.33                1.24                  27.8   \n",
       "109228713   250.0              2.29                1.80                  20.7   \n",
       "220533110   217.0              2.45                1.39                  26.2   \n",
       "\n",
       "            Albumin (g/l)  Follow-up YEARS  RIP  ESRD  \n",
       "Patient_ID                                             \n",
       "568268916            37.0              5.7  NaN   NaN  \n",
       "659549633            30.0              1.5  NaN   1.0  \n",
       "406748956            36.0              0.6  1.0   NaN  \n",
       "109228713            39.0              1.1  NaN   1.0  \n",
       "220533110            43.0              2.5  NaN   NaN  "
      ]
     },
     "execution_count": 4,
     "metadata": {},
     "output_type": "execute_result"
    }
   ],
   "source": [
    "df.head()"
   ]
  },
  {
   "cell_type": "markdown",
   "metadata": {},
   "source": [
    "## Inspect Data Types and Missing Data"
   ]
  },
  {
   "cell_type": "code",
   "execution_count": 5,
   "metadata": {},
   "outputs": [
    {
     "data": {
      "text/html": [
       "<div>\n",
       "<style scoped>\n",
       "    .dataframe tbody tr th:only-of-type {\n",
       "        vertical-align: middle;\n",
       "    }\n",
       "\n",
       "    .dataframe tbody tr th {\n",
       "        vertical-align: top;\n",
       "    }\n",
       "\n",
       "    .dataframe thead th {\n",
       "        text-align: right;\n",
       "    }\n",
       "</style>\n",
       "<table border=\"1\" class=\"dataframe\">\n",
       "  <thead>\n",
       "    <tr style=\"text-align: right;\">\n",
       "      <th></th>\n",
       "      <th>Column/Variable</th>\n",
       "      <th>Data Type</th>\n",
       "      <th># of Nulls</th>\n",
       "      <th>Percent Null</th>\n",
       "    </tr>\n",
       "  </thead>\n",
       "  <tbody>\n",
       "    <tr>\n",
       "      <th>0</th>\n",
       "      <td>Attendance date</td>\n",
       "      <td>object</td>\n",
       "      <td>2</td>\n",
       "      <td>0.0</td>\n",
       "    </tr>\n",
       "    <tr>\n",
       "      <th>1</th>\n",
       "      <td>Age</td>\n",
       "      <td>float64</td>\n",
       "      <td>2</td>\n",
       "      <td>0.0</td>\n",
       "    </tr>\n",
       "    <tr>\n",
       "      <th>2</th>\n",
       "      <td>SEX</td>\n",
       "      <td>object</td>\n",
       "      <td>2</td>\n",
       "      <td>0.0</td>\n",
       "    </tr>\n",
       "    <tr>\n",
       "      <th>3</th>\n",
       "      <td>ETHNICITY</td>\n",
       "      <td>object</td>\n",
       "      <td>2</td>\n",
       "      <td>0.0</td>\n",
       "    </tr>\n",
       "    <tr>\n",
       "      <th>4</th>\n",
       "      <td>Diabetes (1=yes; 0=no)</td>\n",
       "      <td>float64</td>\n",
       "      <td>2</td>\n",
       "      <td>0.0</td>\n",
       "    </tr>\n",
       "    <tr>\n",
       "      <th>5</th>\n",
       "      <td>Hypertension (1=yes; 0=no)</td>\n",
       "      <td>float64</td>\n",
       "      <td>2</td>\n",
       "      <td>0.0</td>\n",
       "    </tr>\n",
       "    <tr>\n",
       "      <th>6</th>\n",
       "      <td>Renal disease (DM=1, HTN=2, GN=3, ADPKD=4, Oth...</td>\n",
       "      <td>float64</td>\n",
       "      <td>2</td>\n",
       "      <td>0.0</td>\n",
       "    </tr>\n",
       "    <tr>\n",
       "      <th>7</th>\n",
       "      <td>eGFR-EPI</td>\n",
       "      <td>float64</td>\n",
       "      <td>2</td>\n",
       "      <td>0.0</td>\n",
       "    </tr>\n",
       "    <tr>\n",
       "      <th>8</th>\n",
       "      <td>uPCR</td>\n",
       "      <td>float64</td>\n",
       "      <td>2</td>\n",
       "      <td>0.0</td>\n",
       "    </tr>\n",
       "    <tr>\n",
       "      <th>9</th>\n",
       "      <td>Calcium (mmol/L)</td>\n",
       "      <td>float64</td>\n",
       "      <td>2</td>\n",
       "      <td>0.0</td>\n",
       "    </tr>\n",
       "    <tr>\n",
       "      <th>10</th>\n",
       "      <td>Phosphate (mmol/L)</td>\n",
       "      <td>float64</td>\n",
       "      <td>2</td>\n",
       "      <td>0.0</td>\n",
       "    </tr>\n",
       "    <tr>\n",
       "      <th>11</th>\n",
       "      <td>Bicarbonate (mmol/L)</td>\n",
       "      <td>float64</td>\n",
       "      <td>2</td>\n",
       "      <td>0.0</td>\n",
       "    </tr>\n",
       "    <tr>\n",
       "      <th>12</th>\n",
       "      <td>Albumin (g/l)</td>\n",
       "      <td>float64</td>\n",
       "      <td>2</td>\n",
       "      <td>0.0</td>\n",
       "    </tr>\n",
       "    <tr>\n",
       "      <th>13</th>\n",
       "      <td>Follow-up YEARS</td>\n",
       "      <td>float64</td>\n",
       "      <td>2</td>\n",
       "      <td>0.0</td>\n",
       "    </tr>\n",
       "    <tr>\n",
       "      <th>14</th>\n",
       "      <td>RIP</td>\n",
       "      <td>float64</td>\n",
       "      <td>525</td>\n",
       "      <td>70.0</td>\n",
       "    </tr>\n",
       "    <tr>\n",
       "      <th>15</th>\n",
       "      <td>ESRD</td>\n",
       "      <td>float64</td>\n",
       "      <td>314</td>\n",
       "      <td>42.0</td>\n",
       "    </tr>\n",
       "  </tbody>\n",
       "</table>\n",
       "</div>"
      ],
      "text/plain": [
       "                                      Column/Variable Data Type  # of Nulls  \\\n",
       "0                                     Attendance date    object           2   \n",
       "1                                                 Age   float64           2   \n",
       "2                                                 SEX    object           2   \n",
       "3                                           ETHNICITY    object           2   \n",
       "4                              Diabetes (1=yes; 0=no)   float64           2   \n",
       "5                          Hypertension (1=yes; 0=no)   float64           2   \n",
       "6   Renal disease (DM=1, HTN=2, GN=3, ADPKD=4, Oth...   float64           2   \n",
       "7                                            eGFR-EPI   float64           2   \n",
       "8                                                uPCR   float64           2   \n",
       "9                                    Calcium (mmol/L)   float64           2   \n",
       "10                                 Phosphate (mmol/L)   float64           2   \n",
       "11                               Bicarbonate (mmol/L)   float64           2   \n",
       "12                                      Albumin (g/l)   float64           2   \n",
       "13                                    Follow-up YEARS   float64           2   \n",
       "14                                                RIP   float64         525   \n",
       "15                                               ESRD   float64         314   \n",
       "\n",
       "    Percent Null  \n",
       "0            0.0  \n",
       "1            0.0  \n",
       "2            0.0  \n",
       "3            0.0  \n",
       "4            0.0  \n",
       "5            0.0  \n",
       "6            0.0  \n",
       "7            0.0  \n",
       "8            0.0  \n",
       "9            0.0  \n",
       "10           0.0  \n",
       "11           0.0  \n",
       "12           0.0  \n",
       "13           0.0  \n",
       "14          70.0  \n",
       "15          42.0  "
      ]
     },
     "execution_count": 5,
     "metadata": {},
     "output_type": "execute_result"
    }
   ],
   "source": [
    "df_inspect = data_types(df)\n",
    "df_inspect[df_inspect[\"# of Nulls\"] > 0]  # inspect data for any missing values"
   ]
  },
  {
   "cell_type": "markdown",
   "metadata": {},
   "source": [
    "## Outcome Definition"
   ]
  },
  {
   "cell_type": "code",
   "execution_count": 6,
   "metadata": {},
   "outputs": [],
   "source": [
    "# ESRD is outcome variable; missing values in this case mean 0 (does not have)\n",
    "df[\"ESRD\"] = df[\"ESRD\"].apply(lambda x: 1 if x == 1 else 0)"
   ]
  },
  {
   "cell_type": "markdown",
   "metadata": {},
   "source": [
    "## One Hot Encoding"
   ]
  },
  {
   "cell_type": "code",
   "execution_count": 7,
   "metadata": {},
   "outputs": [],
   "source": [
    "# one-hot encode sex and ethnicity\n",
    "df = df.assign(**pd.get_dummies(df[[\"SEX\", \"ETHNICITY\"]]).astype(int))"
   ]
  },
  {
   "cell_type": "markdown",
   "metadata": {},
   "source": [
    "## uPCR to uACR"
   ]
  },
  {
   "cell_type": "code",
   "execution_count": 8,
   "metadata": {},
   "outputs": [],
   "source": [
    "# calculate uACR from uPCR from Ali et al.'s formula\n",
    "df[\"uACR\"] = (\n",
    "    np.exp(\n",
    "        5.2659\n",
    "        + 0.2934 * np.log(np.minimum(df[\"uPCR\"] / 50, 1))\n",
    "        + 1.5643 * np.log(np.maximum(np.minimum(df[\"uPCR\"] / 500, 1), 0.1))\n",
    "        + 1.1109 * np.log(np.maximum(df[\"uPCR\"] / 500, 1))\n",
    "    )\n",
    "    - 0.0773 * (df[\"SEX\"] == \"Female\")\n",
    "    + 0.0797 * (df[\"Diabetes (1=yes; 0=no)\"] == 1)\n",
    "    + 0.1265 * (df[\"Hypertension (1=yes; 0=no)\"] == 1)\n",
    ")\n",
    "# This sets the uACR column for all entries, adjusting for the constants as given."
   ]
  },
  {
   "cell_type": "code",
   "execution_count": 9,
   "metadata": {},
   "outputs": [],
   "source": [
    "df[\"log_uACR\"] = np.log(df[\"uACR\"])"
   ]
  },
  {
   "cell_type": "markdown",
   "metadata": {},
   "source": [
    "## Binning and Creating Labels"
   ]
  },
  {
   "cell_type": "code",
   "execution_count": 10,
   "metadata": {},
   "outputs": [],
   "source": [
    "bin_ages = [0, 18, 30, 40, 50, 60, 70, 80, 90, 100, float(\"inf\")]\n",
    "label_ages = [\n",
    "    \"Under 18\",\n",
    "    \"18-29\",\n",
    "    \"30-39\",\n",
    "    \"40-49\",\n",
    "    \"50-59\",\n",
    "    \"60-69\",\n",
    "    \"70-79\",\n",
    "    \"80-89\",\n",
    "    \"90-99\",\n",
    "    \"100 +\",\n",
    "]"
   ]
  },
  {
   "cell_type": "code",
   "execution_count": 11,
   "metadata": {},
   "outputs": [],
   "source": [
    "df[\"age_group\"] = pd.cut(df[\"Age\"], bins=bin_ages, labels=label_ages)"
   ]
  },
  {
   "cell_type": "code",
   "execution_count": 12,
   "metadata": {},
   "outputs": [
    {
     "name": "stdout",
     "output_type": "stream",
     "text": [
      "Index(['Attendance date', 'Age', 'SEX', 'ETHNICITY', 'Diabetes (1=yes; 0=no)',\n",
      "       'Hypertension (1=yes; 0=no)',\n",
      "       'Renal disease (DM=1, HTN=2, GN=3, ADPKD=4, Other=5)', 'eGFR-EPI',\n",
      "       'uPCR', 'Calcium (mmol/L)', 'Phosphate (mmol/L)',\n",
      "       'Bicarbonate (mmol/L)', 'Albumin (g/l)', 'Follow-up YEARS', 'RIP',\n",
      "       'ESRD', 'SEX_Female', 'SEX_Male',\n",
      "       'ETHNICITY_AFRICAN (BLACK OR BLACK BRITISH)',\n",
      "       'ETHNICITY_ANY OTHER ASIAN BACKGROUND',\n",
      "       'ETHNICITY_ANY OTHER BLACK BACKGROUND',\n",
      "       'ETHNICITY_ANY OTHER ETHNIC GROUP',\n",
      "       'ETHNICITY_ANY OTHER MIXED BACKGROUND',\n",
      "       'ETHNICITY_ANY OTHER WHITE BACKGROUND',\n",
      "       'ETHNICITY_BANGLADESHI (ASIAN OR ASIAN BRITISH)',\n",
      "       'ETHNICITY_CARIBBEAN (BLACK OR BLACK BRITISH)',\n",
      "       'ETHNICITY_CHINESE (OTHER ETHNIC GROUPS)',\n",
      "       'ETHNICITY_INDIAN (ASIAN OR ASIAN BRITISH)', 'ETHNICITY_NOT STATED',\n",
      "       'ETHNICITY_PAKISTANI (ASIAN OR ASIAN BRITISH)',\n",
      "       'ETHNICITY_WHITE AND BLACK AFRICAN (MIXED)', 'ETHNICITY_WHITE BRITISH',\n",
      "       'ETHNICITY_WHITE IRISH', 'uACR', 'log_uACR', 'age_group'],\n",
      "      dtype='object')\n"
     ]
    }
   ],
   "source": [
    "pprint.pp(df.columns)"
   ]
  },
  {
   "cell_type": "markdown",
   "metadata": {},
   "source": [
    "## Prepare Dataframes for Output"
   ]
  },
  {
   "cell_type": "code",
   "execution_count": 13,
   "metadata": {},
   "outputs": [],
   "source": [
    "df_eda = df.copy(deep=True)  # copy df that was worked on for further EDA\n",
    "# isolate numeric datatypes as finalized preprocessed df that can be used for ML\n",
    "df = df.select_dtypes(np.number)"
   ]
  },
  {
   "cell_type": "markdown",
   "metadata": {},
   "source": [
    "## Save Dataframes to Path"
   ]
  },
  {
   "cell_type": "code",
   "execution_count": 14,
   "metadata": {},
   "outputs": [],
   "source": [
    "df_eda.to_parquet(os.path.join(data_path, \"df_eda.parquet\"))  # save eda  df\n",
    "df.to_parquet(os.path.join(data_path, \"df.parquet\"))  # save preprocessed num. df"
   ]
  }
 ],
 "metadata": {
  "kernelspec": {
   "display_name": "custom_conda",
   "language": "python",
   "name": "python3"
  },
  "language_info": {
   "codemirror_mode": {
    "name": "ipython",
    "version": 3
   },
   "file_extension": ".py",
   "mimetype": "text/x-python",
   "name": "python",
   "nbconvert_exporter": "python",
   "pygments_lexer": "ipython3",
   "version": "3.8.19"
  }
 },
 "nbformat": 4,
 "nbformat_minor": 2
}
