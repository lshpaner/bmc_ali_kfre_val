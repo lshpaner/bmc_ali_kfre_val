{
 "cells": [
  {
   "cell_type": "markdown",
   "metadata": {},
   "source": [
    "# Preprocessing"
   ]
  },
  {
   "cell_type": "markdown",
   "metadata": {},
   "source": [
    "## Import Libraries"
   ]
  },
  {
   "cell_type": "code",
   "execution_count": 1,
   "metadata": {},
   "outputs": [
    {
     "name": "stdout",
     "output_type": "stream",
     "text": [
      "Python version:\n",
      "3.8.19 (default, Mar 20 2024, 19:55:45) [MSC v.1916 64 bit (AMD64)]\n",
      "\n",
      "Pandas Version = 2.0.3\n",
      "Numpy Version = 1.24.3\n",
      "KFRE Version = 0.1.6\n"
     ]
    }
   ],
   "source": [
    "########################### Import Requisite Libraries #########################\n",
    "import pandas as pd\n",
    "import numpy as np\n",
    "from datetime import datetime\n",
    "import os\n",
    "import sys\n",
    "import pprint\n",
    "\n",
    "################################################################################\n",
    "# Add the parent directory to sys.path to access 'functions.py'\n",
    "sys.path.append(os.path.join(os.pardir))\n",
    "from python_scripts.functions import *  # import generalized custom function\n",
    "import kfre\n",
    "\n",
    "################################################################################\n",
    "\n",
    "print(\"Python version:\")\n",
    "print(sys.version)\n",
    "print()\n",
    "print(f\"Pandas Version = {pd.__version__}\")\n",
    "print(f\"Numpy Version = {np.__version__}\")\n",
    "print(f\"KFRE Version = {kfre.__version__}\")"
   ]
  },
  {
   "cell_type": "markdown",
   "metadata": {},
   "source": [
    "## Read in the Data"
   ]
  },
  {
   "cell_type": "code",
   "execution_count": 2,
   "metadata": {},
   "outputs": [
    {
     "name": "stdout",
     "output_type": "stream",
     "text": [
      "Directory exists: ..\\data\n",
      "Directory exists: ..\\images\\png_images\n",
      "Directory exists: ..\\images\\svg_images\n"
     ]
    }
   ],
   "source": [
    "base_path = os.path.join(os.pardir)\n",
    "\n",
    "# Go up 1 level from 'notebooks' to parent directory, then into the 'data' folder\n",
    "data_path = os.path.join(os.pardir, \"data\")\n",
    "\n",
    "image_path_png = os.path.join(base_path, \"images\", \"png_images\")\n",
    "image_path_svg = os.path.join(base_path, \"images\", \"svg_images\")\n",
    "\n",
    "# Use the function to ensure the 'data' directory exists\n",
    "ensure_directory(data_path)\n",
    "ensure_directory(image_path_png)\n",
    "ensure_directory(image_path_svg)\n",
    "\n",
    "# Read the CSV file into a DataFrame\n",
    "df = pd.read_csv(os.path.join(data_path, \"12882_2021_2402_MOESM8_ESM.csv\"))"
   ]
  },
  {
   "cell_type": "code",
   "execution_count": 3,
   "metadata": {},
   "outputs": [],
   "source": [
    "df = add_patient_ids(df=df, seed=33)  # call the function on the df to add patient_ids"
   ]
  },
  {
   "cell_type": "code",
   "execution_count": 4,
   "metadata": {},
   "outputs": [],
   "source": [
    "# Use slicing to select all rows except the last two, then reassign it to df\n",
    "df = df[:-2]"
   ]
  },
  {
   "cell_type": "code",
   "execution_count": 5,
   "metadata": {},
   "outputs": [
    {
     "data": {
      "text/html": [
       "<div>\n",
       "<style scoped>\n",
       "    .dataframe tbody tr th:only-of-type {\n",
       "        vertical-align: middle;\n",
       "    }\n",
       "\n",
       "    .dataframe tbody tr th {\n",
       "        vertical-align: top;\n",
       "    }\n",
       "\n",
       "    .dataframe thead th {\n",
       "        text-align: right;\n",
       "    }\n",
       "</style>\n",
       "<table border=\"1\" class=\"dataframe\">\n",
       "  <thead>\n",
       "    <tr style=\"text-align: right;\">\n",
       "      <th></th>\n",
       "      <th>Attendance date</th>\n",
       "      <th>Age</th>\n",
       "      <th>SEX</th>\n",
       "      <th>ETHNICITY</th>\n",
       "      <th>Diabetes (1=yes; 0=no)</th>\n",
       "      <th>Hypertension (1=yes; 0=no)</th>\n",
       "      <th>Renal disease (DM=1, HTN=2, GN=3, ADPKD=4, Other=5)</th>\n",
       "      <th>eGFR-EPI</th>\n",
       "      <th>uPCR</th>\n",
       "      <th>Calcium (mmol/L)</th>\n",
       "      <th>Phosphate (mmol/L)</th>\n",
       "      <th>Bicarbonate (mmol/L)</th>\n",
       "      <th>Albumin (g/l)</th>\n",
       "      <th>Follow-up YEARS</th>\n",
       "      <th>RIP</th>\n",
       "      <th>ESRD</th>\n",
       "    </tr>\n",
       "    <tr>\n",
       "      <th>Patient_ID</th>\n",
       "      <th></th>\n",
       "      <th></th>\n",
       "      <th></th>\n",
       "      <th></th>\n",
       "      <th></th>\n",
       "      <th></th>\n",
       "      <th></th>\n",
       "      <th></th>\n",
       "      <th></th>\n",
       "      <th></th>\n",
       "      <th></th>\n",
       "      <th></th>\n",
       "      <th></th>\n",
       "      <th></th>\n",
       "      <th></th>\n",
       "      <th></th>\n",
       "    </tr>\n",
       "  </thead>\n",
       "  <tbody>\n",
       "    <tr>\n",
       "      <th>568268916</th>\n",
       "      <td>11/02/2015</td>\n",
       "      <td>87.24</td>\n",
       "      <td>Male</td>\n",
       "      <td>WHITE BRITISH</td>\n",
       "      <td>1.0</td>\n",
       "      <td>1.0</td>\n",
       "      <td>1.0</td>\n",
       "      <td>19.0</td>\n",
       "      <td>33.0</td>\n",
       "      <td>2.78</td>\n",
       "      <td>0.88</td>\n",
       "      <td>27.2</td>\n",
       "      <td>37.0</td>\n",
       "      <td>5.7</td>\n",
       "      <td>NaN</td>\n",
       "      <td>NaN</td>\n",
       "    </tr>\n",
       "    <tr>\n",
       "      <th>659549633</th>\n",
       "      <td>06/05/2015</td>\n",
       "      <td>56.88</td>\n",
       "      <td>Female</td>\n",
       "      <td>WHITE BRITISH</td>\n",
       "      <td>0.0</td>\n",
       "      <td>1.0</td>\n",
       "      <td>5.0</td>\n",
       "      <td>15.0</td>\n",
       "      <td>395.0</td>\n",
       "      <td>2.43</td>\n",
       "      <td>1.02</td>\n",
       "      <td>21.3</td>\n",
       "      <td>30.0</td>\n",
       "      <td>1.5</td>\n",
       "      <td>NaN</td>\n",
       "      <td>1.0</td>\n",
       "    </tr>\n",
       "    <tr>\n",
       "      <th>406748956</th>\n",
       "      <td>04/05/2016</td>\n",
       "      <td>66.53</td>\n",
       "      <td>Female</td>\n",
       "      <td>WHITE BRITISH</td>\n",
       "      <td>0.0</td>\n",
       "      <td>1.0</td>\n",
       "      <td>3.0</td>\n",
       "      <td>17.0</td>\n",
       "      <td>163.0</td>\n",
       "      <td>2.33</td>\n",
       "      <td>1.24</td>\n",
       "      <td>27.8</td>\n",
       "      <td>36.0</td>\n",
       "      <td>0.6</td>\n",
       "      <td>1.0</td>\n",
       "      <td>NaN</td>\n",
       "    </tr>\n",
       "    <tr>\n",
       "      <th>109228713</th>\n",
       "      <td>16/11/2011</td>\n",
       "      <td>69.92</td>\n",
       "      <td>Male</td>\n",
       "      <td>WHITE IRISH</td>\n",
       "      <td>0.0</td>\n",
       "      <td>1.0</td>\n",
       "      <td>3.0</td>\n",
       "      <td>12.0</td>\n",
       "      <td>250.0</td>\n",
       "      <td>2.29</td>\n",
       "      <td>1.80</td>\n",
       "      <td>20.7</td>\n",
       "      <td>39.0</td>\n",
       "      <td>1.1</td>\n",
       "      <td>NaN</td>\n",
       "      <td>1.0</td>\n",
       "    </tr>\n",
       "    <tr>\n",
       "      <th>220533110</th>\n",
       "      <td>02/05/2018</td>\n",
       "      <td>81.14</td>\n",
       "      <td>Female</td>\n",
       "      <td>WHITE BRITISH</td>\n",
       "      <td>1.0</td>\n",
       "      <td>1.0</td>\n",
       "      <td>1.0</td>\n",
       "      <td>15.0</td>\n",
       "      <td>217.0</td>\n",
       "      <td>2.45</td>\n",
       "      <td>1.39</td>\n",
       "      <td>26.2</td>\n",
       "      <td>43.0</td>\n",
       "      <td>2.5</td>\n",
       "      <td>NaN</td>\n",
       "      <td>NaN</td>\n",
       "    </tr>\n",
       "  </tbody>\n",
       "</table>\n",
       "</div>"
      ],
      "text/plain": [
       "           Attendance date    Age     SEX      ETHNICITY  \\\n",
       "Patient_ID                                                 \n",
       "568268916       11/02/2015  87.24    Male  WHITE BRITISH   \n",
       "659549633       06/05/2015  56.88  Female  WHITE BRITISH   \n",
       "406748956       04/05/2016  66.53  Female  WHITE BRITISH   \n",
       "109228713       16/11/2011  69.92    Male    WHITE IRISH   \n",
       "220533110       02/05/2018  81.14  Female  WHITE BRITISH   \n",
       "\n",
       "            Diabetes (1=yes; 0=no)  Hypertension (1=yes; 0=no)  \\\n",
       "Patient_ID                                                       \n",
       "568268916                      1.0                         1.0   \n",
       "659549633                      0.0                         1.0   \n",
       "406748956                      0.0                         1.0   \n",
       "109228713                      0.0                         1.0   \n",
       "220533110                      1.0                         1.0   \n",
       "\n",
       "            Renal disease (DM=1, HTN=2, GN=3, ADPKD=4, Other=5)  eGFR-EPI  \\\n",
       "Patient_ID                                                                  \n",
       "568268916                                                 1.0        19.0   \n",
       "659549633                                                 5.0        15.0   \n",
       "406748956                                                 3.0        17.0   \n",
       "109228713                                                 3.0        12.0   \n",
       "220533110                                                 1.0        15.0   \n",
       "\n",
       "             uPCR  Calcium (mmol/L)  Phosphate (mmol/L)  Bicarbonate (mmol/L)  \\\n",
       "Patient_ID                                                                      \n",
       "568268916    33.0              2.78                0.88                  27.2   \n",
       "659549633   395.0              2.43                1.02                  21.3   \n",
       "406748956   163.0              2.33                1.24                  27.8   \n",
       "109228713   250.0              2.29                1.80                  20.7   \n",
       "220533110   217.0              2.45                1.39                  26.2   \n",
       "\n",
       "            Albumin (g/l)  Follow-up YEARS  RIP  ESRD  \n",
       "Patient_ID                                             \n",
       "568268916            37.0              5.7  NaN   NaN  \n",
       "659549633            30.0              1.5  NaN   1.0  \n",
       "406748956            36.0              0.6  1.0   NaN  \n",
       "109228713            39.0              1.1  NaN   1.0  \n",
       "220533110            43.0              2.5  NaN   NaN  "
      ]
     },
     "execution_count": 5,
     "metadata": {},
     "output_type": "execute_result"
    }
   ],
   "source": [
    "df.head()"
   ]
  },
  {
   "cell_type": "markdown",
   "metadata": {},
   "source": [
    "## Standardize Attendance Date Format"
   ]
  },
  {
   "cell_type": "code",
   "execution_count": 6,
   "metadata": {},
   "outputs": [],
   "source": [
    "date_strings = df[\"Attendance date\"].to_list()\n",
    "\n",
    "# Apply the function with the rule to the list of dates\n",
    "standardized_dates_with_rule = [parse_date_with_rule(date) for date in date_strings]\n",
    "\n",
    "# Apply the updated function to standardize the dates and create a new column\n",
    "df[\"Standardized_Date\"] = df[\"Attendance date\"].apply(parse_date_with_rule)"
   ]
  },
  {
   "cell_type": "markdown",
   "metadata": {},
   "source": [
    "## Inspect Data Types and Missing Data"
   ]
  },
  {
   "cell_type": "code",
   "execution_count": 7,
   "metadata": {},
   "outputs": [
    {
     "data": {
      "text/html": [
       "<div>\n",
       "<style scoped>\n",
       "    .dataframe tbody tr th:only-of-type {\n",
       "        vertical-align: middle;\n",
       "    }\n",
       "\n",
       "    .dataframe tbody tr th {\n",
       "        vertical-align: top;\n",
       "    }\n",
       "\n",
       "    .dataframe thead th {\n",
       "        text-align: right;\n",
       "    }\n",
       "</style>\n",
       "<table border=\"1\" class=\"dataframe\">\n",
       "  <thead>\n",
       "    <tr style=\"text-align: right;\">\n",
       "      <th></th>\n",
       "      <th>Column/Variable</th>\n",
       "      <th>Data Type</th>\n",
       "      <th># of Nulls</th>\n",
       "      <th>Percent Null</th>\n",
       "    </tr>\n",
       "  </thead>\n",
       "  <tbody>\n",
       "    <tr>\n",
       "      <th>14</th>\n",
       "      <td>RIP</td>\n",
       "      <td>float64</td>\n",
       "      <td>523</td>\n",
       "      <td>70.0</td>\n",
       "    </tr>\n",
       "    <tr>\n",
       "      <th>15</th>\n",
       "      <td>ESRD</td>\n",
       "      <td>float64</td>\n",
       "      <td>312</td>\n",
       "      <td>42.0</td>\n",
       "    </tr>\n",
       "  </tbody>\n",
       "</table>\n",
       "</div>"
      ],
      "text/plain": [
       "   Column/Variable Data Type  # of Nulls  Percent Null\n",
       "14             RIP   float64         523          70.0\n",
       "15            ESRD   float64         312          42.0"
      ]
     },
     "execution_count": 7,
     "metadata": {},
     "output_type": "execute_result"
    }
   ],
   "source": [
    "df_inspect = data_types(df)\n",
    "df_inspect[df_inspect[\"# of Nulls\"] > 0]  # inspect data for any missing values"
   ]
  },
  {
   "cell_type": "markdown",
   "metadata": {},
   "source": [
    "## Convert and Standardize Attendance Date to DateTime for EDA"
   ]
  },
  {
   "cell_type": "code",
   "execution_count": 8,
   "metadata": {},
   "outputs": [],
   "source": [
    "df[\"Att_date\"] = pd.to_datetime(df[\"Attendance date\"], format=\"%d/%m/%Y\")"
   ]
  },
  {
   "cell_type": "code",
   "execution_count": 9,
   "metadata": {},
   "outputs": [],
   "source": [
    "df[\"Standardized_Date\"] = pd.to_datetime(df[\"Standardized_Date\"])\n",
    "filtered_df = df[\n",
    "    (df[\"Standardized_Date\"] >= \"2011-09-01\")\n",
    "    & (df[\"Standardized_Date\"] <= \"2015-10-31\")\n",
    "]"
   ]
  },
  {
   "cell_type": "markdown",
   "metadata": {},
   "source": [
    "## Outcome Definition"
   ]
  },
  {
   "cell_type": "code",
   "execution_count": 10,
   "metadata": {},
   "outputs": [],
   "source": [
    "# ESRD is outcome variable; missing values in this case mean 0 (does not have)\n",
    "df[\"ESRD\"] = df[\"ESRD\"].apply(lambda x: 1 if x == 1 else 0)"
   ]
  },
  {
   "cell_type": "markdown",
   "metadata": {},
   "source": [
    "## Reclassify Renal Diseases by Category"
   ]
  },
  {
   "cell_type": "code",
   "execution_count": 11,
   "metadata": {},
   "outputs": [],
   "source": [
    "df[\"Renal_Disease\"] = df[\"Renal disease (DM=1, HTN=2, GN=3, ADPKD=4, Other=5)\"].map(\n",
    "    {1: \"DM\", 2: \"HTN\", 3: \"GN\", 4: \"APKD\", 5: \"Other\"}\n",
    ")"
   ]
  },
  {
   "cell_type": "markdown",
   "metadata": {},
   "source": [
    "## One Hot Encoding"
   ]
  },
  {
   "cell_type": "code",
   "execution_count": 12,
   "metadata": {},
   "outputs": [],
   "source": [
    "# one-hot encode sex and ethnicity\n",
    "df = df.assign(**pd.get_dummies(df[[\"SEX\", \"ETHNICITY\", \"Renal_Disease\"]]).astype(int))"
   ]
  },
  {
   "cell_type": "markdown",
   "metadata": {},
   "source": [
    "## Convert Specific Variables from mmol/L to mg/g and/or g/dL"
   ]
  },
  {
   "cell_type": "markdown",
   "metadata": {},
   "source": [
    "The conversion of uPCR from mg/mmol to mg/g involves understanding that both mg/mmol and mg/g are ratios that can be related through their units.\n",
    "\n",
    "* mg/mmol is a ratio of mass (in milligrams) to molar concentration (in millimoles), while\n",
    "* mg/g is a ratio of mass (in milligrams) to mass (in grams).\n",
    "\n",
    "To convert mg/mmol to mg/g, we need to know the molar mass of creatinine, because uPCR is the ratio of the mass of protein to the mass of creatinine. The molar mass of creatinine is approximately 113.12 g/mol. Therefore, 1 mmol of creatinine is 113.12 mg.\n",
    "\n",
    "Here's the conversion:\n",
    "\n",
    "1 mg/mmol means that you have 1 mg of protein for every 1 mmol of creatinine. Since 1 mmol of creatinine is 113.12 mg:\n",
    "\n",
    "$$\\frac{\\text{1 mg}}{\\text{1 mmol creatinine}} \\times \\frac{\\text{113.12 mg creatinine}}{\\text{1 g creatinine}} = 113.12 \\text{ mg/g}$$\n",
    "\n",
    "However, since we are interested in a ratio where the denominator is 1 g (or 1000 mg) rather than 113.12 mg, we use the following calculation:\n",
    "\n",
    "$$\\frac{\\text{1 mg protein}}{\\text{0.11312 g creatinine}} \\approx 8.84  {\\text{ mg/g}}$$"
   ]
  },
  {
   "cell_type": "code",
   "execution_count": 13,
   "metadata": {},
   "outputs": [],
   "source": [
    "from kfre import perform_conversions  # use kfre library to perform conversions"
   ]
  },
  {
   "cell_type": "code",
   "execution_count": 14,
   "metadata": {},
   "outputs": [
    {
     "name": "stdout",
     "output_type": "stream",
     "text": [
      "Converted 'uPCR' to new column 'uPCR_mg_g' with factor 8.84016973125884\n",
      "Converted 'Calcium (mmol/L)' to new column 'Calcium_mg_dl' with factor 4\n",
      "Converted 'Phosphate (mmol/L)' to new column 'Phosphate_mg_dl' with factor 3.1\n",
      "Converted 'Albumin (g/l)' to new column 'Albumin_g_dl' with factor 0.1\n"
     ]
    }
   ],
   "source": [
    "df = perform_conversions(\n",
    "    df=df,\n",
    "    reverse=False,\n",
    "    upcr_col=\"uPCR_mmol\",\n",
    "    calcium_col=\"calcium_mmol\",\n",
    "    albumin_col=\"albumin_g_per_l\",\n",
    "    convert_all=True,\n",
    ")"
   ]
  },
  {
   "cell_type": "markdown",
   "metadata": {},
   "source": [
    "## Validate `uPCR` to `uACR` Conversion"
   ]
  },
  {
   "cell_type": "markdown",
   "metadata": {},
   "source": [
    "The `kfre` library has a built-in `upcr_uacr` method for converting `uPCR` to `uACR`. "
   ]
  },
  {
   "cell_type": "code",
   "execution_count": 15,
   "metadata": {},
   "outputs": [],
   "source": [
    "from kfre import upcr_uacr  # use kfre library to perform conversions"
   ]
  },
  {
   "cell_type": "code",
   "execution_count": 16,
   "metadata": {},
   "outputs": [],
   "source": [
    "df[\"uACR\"] = upcr_uacr(\n",
    "    df=df,\n",
    "    sex_col=\"SEX\",\n",
    "    diabetes_col=\"Diabetes (1=yes; 0=no)\",\n",
    "    hypertension_col=\"Hypertension (1=yes; 0=no)\",\n",
    "    upcr_col=\"uPCR_mg_g\",\n",
    "    female_str=\"Female\",\n",
    ")"
   ]
  },
  {
   "cell_type": "code",
   "execution_count": 17,
   "metadata": {},
   "outputs": [],
   "source": [
    "# Creating a copy of the required subset of the DataFrame and renaming columns for clarity\n",
    "upcr_uacr_validation = df[\n",
    "    [\n",
    "        \"SEX\",\n",
    "        \"uPCR_mg_g\",\n",
    "        \"uACR\",\n",
    "        \"Hypertension (1=yes; 0=no)\",\n",
    "        \"Diabetes (1=yes; 0=no)\",\n",
    "    ]\n",
    "].copy()\n",
    "\n",
    "upcr_uacr_validation.rename(\n",
    "    columns={\n",
    "        \"Hypertension (1=yes; 0=no)\": \"Hypertension Status\",\n",
    "        \"Diabetes (1=yes; 0=no)\": \"Diabetes Status\",\n",
    "    },\n",
    "    inplace=True,\n",
    ")\n",
    "\n",
    "# Applying transformations directly using map for efficiency\n",
    "upcr_uacr_validation[\"Diabetes Status\"] = upcr_uacr_validation[\"Diabetes Status\"].map(\n",
    "    {1: \"Diabetic\", 0: \"Not Diabetic\"}\n",
    ")\n",
    "\n",
    "upcr_uacr_validation[\"Hypertension Status\"] = upcr_uacr_validation[\n",
    "    \"Hypertension Status\"\n",
    "].map({1: \"Hypertensive\", 0: \"Not Hypertensive\"})"
   ]
  },
  {
   "cell_type": "code",
   "execution_count": 18,
   "metadata": {},
   "outputs": [
    {
     "data": {
      "text/html": [
       "<div>\n",
       "<style scoped>\n",
       "    .dataframe tbody tr th:only-of-type {\n",
       "        vertical-align: middle;\n",
       "    }\n",
       "\n",
       "    .dataframe tbody tr th {\n",
       "        vertical-align: top;\n",
       "    }\n",
       "\n",
       "    .dataframe thead th {\n",
       "        text-align: right;\n",
       "    }\n",
       "</style>\n",
       "<table border=\"1\" class=\"dataframe\">\n",
       "  <thead>\n",
       "    <tr style=\"text-align: right;\">\n",
       "      <th></th>\n",
       "      <th>SEX</th>\n",
       "      <th>uPCR_mg_g</th>\n",
       "      <th>uACR</th>\n",
       "      <th>Hypertension Status</th>\n",
       "      <th>Diabetes Status</th>\n",
       "    </tr>\n",
       "    <tr>\n",
       "      <th>Patient_ID</th>\n",
       "      <th></th>\n",
       "      <th></th>\n",
       "      <th></th>\n",
       "      <th></th>\n",
       "      <th></th>\n",
       "    </tr>\n",
       "  </thead>\n",
       "  <tbody>\n",
       "    <tr>\n",
       "      <th>568268916</th>\n",
       "      <td>Male</td>\n",
       "      <td>291.725601</td>\n",
       "      <td>102.438624</td>\n",
       "      <td>Hypertensive</td>\n",
       "      <td>Diabetic</td>\n",
       "    </tr>\n",
       "    <tr>\n",
       "      <th>659549633</th>\n",
       "      <td>Female</td>\n",
       "      <td>3491.867044</td>\n",
       "      <td>1762.039423</td>\n",
       "      <td>Hypertensive</td>\n",
       "      <td>Not Diabetic</td>\n",
       "    </tr>\n",
       "    <tr>\n",
       "      <th>406748956</th>\n",
       "      <td>Female</td>\n",
       "      <td>1440.947666</td>\n",
       "      <td>659.136129</td>\n",
       "      <td>Hypertensive</td>\n",
       "      <td>Not Diabetic</td>\n",
       "    </tr>\n",
       "    <tr>\n",
       "      <th>109228713</th>\n",
       "      <td>Male</td>\n",
       "      <td>2210.042433</td>\n",
       "      <td>1145.245058</td>\n",
       "      <td>Hypertensive</td>\n",
       "      <td>Not Diabetic</td>\n",
       "    </tr>\n",
       "    <tr>\n",
       "      <th>220533110</th>\n",
       "      <td>Female</td>\n",
       "      <td>1918.316832</td>\n",
       "      <td>980.939665</td>\n",
       "      <td>Hypertensive</td>\n",
       "      <td>Diabetic</td>\n",
       "    </tr>\n",
       "  </tbody>\n",
       "</table>\n",
       "</div>"
      ],
      "text/plain": [
       "               SEX    uPCR_mg_g         uACR Hypertension Status  \\\n",
       "Patient_ID                                                         \n",
       "568268916     Male   291.725601   102.438624        Hypertensive   \n",
       "659549633   Female  3491.867044  1762.039423        Hypertensive   \n",
       "406748956   Female  1440.947666   659.136129        Hypertensive   \n",
       "109228713     Male  2210.042433  1145.245058        Hypertensive   \n",
       "220533110   Female  1918.316832   980.939665        Hypertensive   \n",
       "\n",
       "           Diabetes Status  \n",
       "Patient_ID                  \n",
       "568268916         Diabetic  \n",
       "659549633     Not Diabetic  \n",
       "406748956     Not Diabetic  \n",
       "109228713     Not Diabetic  \n",
       "220533110         Diabetic  "
      ]
     },
     "execution_count": 18,
     "metadata": {},
     "output_type": "execute_result"
    }
   ],
   "source": [
    "upcr_uacr_validation.head()"
   ]
  },
  {
   "cell_type": "markdown",
   "metadata": {},
   "source": [
    "We can validate the results of this method by plugging each individual `uPCR (mg/g)` value into the online calculator below to confirm that the results match up. \n",
    "\n",
    "**`uPCR` to `uACR` Calculator:**\n",
    "\n",
    "https://ckdpcrisk.org/pcr2acr_adj/"
   ]
  },
  {
   "cell_type": "code",
   "execution_count": 19,
   "metadata": {},
   "outputs": [
    {
     "data": {
      "text/plain": [
       "404.65034813307517"
      ]
     },
     "execution_count": 19,
     "metadata": {},
     "output_type": "execute_result"
    }
   ],
   "source": [
    "df[\"uACR\"].median()"
   ]
  },
  {
   "cell_type": "markdown",
   "metadata": {},
   "source": [
    "Ali et al. reported a median `uACR` of 409. There exists a small difference of 4 units between that and our median of 405 which can be attributed to rounding differences. Each individual conversion of `uPCR` to `uACR` in the above dataframe matches up to the online calculator references above."
   ]
  },
  {
   "cell_type": "markdown",
   "metadata": {},
   "source": [
    "## Validate Bicarbonate"
   ]
  },
  {
   "cell_type": "code",
   "execution_count": 20,
   "metadata": {},
   "outputs": [
    {
     "name": "stdout",
     "output_type": "stream",
     "text": [
      "Median Bicarbonate = 21.8\n"
     ]
    }
   ],
   "source": [
    "med_bicarb = df[\"Bicarbonate (mmol/L)\"].median()\n",
    "print(f\"Median Bicarbonate = {med_bicarb}\")"
   ]
  },
  {
   "cell_type": "markdown",
   "metadata": {},
   "source": [
    "Ali et al. reported a median `Bicarbonate` of `21.8 mEq/L`. This is exactly what we see here."
   ]
  },
  {
   "cell_type": "markdown",
   "metadata": {},
   "source": [
    "## Binning and Creating Labels"
   ]
  },
  {
   "cell_type": "code",
   "execution_count": 21,
   "metadata": {},
   "outputs": [],
   "source": [
    "bin_ages = [0, 18, 30, 40, 50, 60, 70, 80, 90, 100, float(\"inf\")]\n",
    "label_ages = [\n",
    "    \"< 18\",\n",
    "    \"18-29\",\n",
    "    \"30-39\",\n",
    "    \"40-49\",\n",
    "    \"50-59\",\n",
    "    \"60-69\",\n",
    "    \"70-79\",\n",
    "    \"80-89\",\n",
    "    \"90-99\",\n",
    "    \"100 +\",\n",
    "]"
   ]
  },
  {
   "cell_type": "code",
   "execution_count": 22,
   "metadata": {},
   "outputs": [],
   "source": [
    "df[\"age_group\"] = pd.cut(df[\"Age\"], bins=bin_ages, labels=label_ages)"
   ]
  },
  {
   "cell_type": "code",
   "execution_count": 23,
   "metadata": {},
   "outputs": [
    {
     "name": "stdout",
     "output_type": "stream",
     "text": [
      "Index(['Attendance date', 'Age', 'SEX', 'ETHNICITY', 'Diabetes (1=yes; 0=no)',\n",
      "       'Hypertension (1=yes; 0=no)',\n",
      "       'Renal disease (DM=1, HTN=2, GN=3, ADPKD=4, Other=5)', 'eGFR-EPI',\n",
      "       'uPCR', 'Calcium (mmol/L)', 'Phosphate (mmol/L)',\n",
      "       'Bicarbonate (mmol/L)', 'Albumin (g/l)', 'Follow-up YEARS', 'RIP',\n",
      "       'ESRD', 'Standardized_Date', 'Att_date', 'Renal_Disease', 'SEX_Female',\n",
      "       'SEX_Male', 'ETHNICITY_AFRICAN (BLACK OR BLACK BRITISH)',\n",
      "       'ETHNICITY_ANY OTHER ASIAN BACKGROUND',\n",
      "       'ETHNICITY_ANY OTHER BLACK BACKGROUND',\n",
      "       'ETHNICITY_ANY OTHER ETHNIC GROUP',\n",
      "       'ETHNICITY_ANY OTHER MIXED BACKGROUND',\n",
      "       'ETHNICITY_ANY OTHER WHITE BACKGROUND',\n",
      "       'ETHNICITY_BANGLADESHI (ASIAN OR ASIAN BRITISH)',\n",
      "       'ETHNICITY_CARIBBEAN (BLACK OR BLACK BRITISH)',\n",
      "       'ETHNICITY_CHINESE (OTHER ETHNIC GROUPS)',\n",
      "       'ETHNICITY_INDIAN (ASIAN OR ASIAN BRITISH)', 'ETHNICITY_NOT STATED',\n",
      "       'ETHNICITY_PAKISTANI (ASIAN OR ASIAN BRITISH)',\n",
      "       'ETHNICITY_WHITE AND BLACK AFRICAN (MIXED)', 'ETHNICITY_WHITE BRITISH',\n",
      "       'ETHNICITY_WHITE IRISH', 'Renal_Disease_APKD', 'Renal_Disease_DM',\n",
      "       'Renal_Disease_GN', 'Renal_Disease_HTN', 'Renal_Disease_Other',\n",
      "       'uPCR_mg_g', 'Calcium_mg_dl', 'Phosphate_mg_dl', 'Albumin_g_dl', 'uACR',\n",
      "       'age_group'],\n",
      "      dtype='object')\n"
     ]
    }
   ],
   "source": [
    "pprint.pp(df.columns)"
   ]
  },
  {
   "cell_type": "markdown",
   "metadata": {},
   "source": [
    "## Prepare Dataframes for Output"
   ]
  },
  {
   "cell_type": "code",
   "execution_count": 24,
   "metadata": {},
   "outputs": [],
   "source": [
    "df_eda = df.copy(deep=True)  # copy df that was worked on for further EDA\n",
    "# isolate numeric datatypes as finalized preprocessed df that can be used for ML\n",
    "df = df.select_dtypes(np.number)"
   ]
  },
  {
   "cell_type": "markdown",
   "metadata": {},
   "source": [
    "## Save Dataframes to Path"
   ]
  },
  {
   "cell_type": "code",
   "execution_count": 25,
   "metadata": {},
   "outputs": [],
   "source": [
    "df_eda.to_parquet(os.path.join(data_path, \"df_eda.parquet\"))  # save eda  df\n",
    "df.to_parquet(os.path.join(data_path, \"df.parquet\"))  # save preprocessed num. df"
   ]
  },
  {
   "cell_type": "markdown",
   "metadata": {},
   "source": [
    "## References\n",
    "\n",
    "Ali, I., Donne, R. L., & Kalra, P. A. (2021). A validation study of the kidney failure risk equation in advanced chronic kidney disease according to disease aetiology with evaluation of discrimination, calibration and clinical utility. *BMC Nephrology, 22(1),* 194.  doi: 10.1186/s12882-021-02402-1\n",
    "\n",
    "Sumida K, Nadkarni GN, Grams ME, Sang Y, Ballew SH, Coresh J, Matsushita K, Surapaneni A, Brunskill N, Chadban SJ, Chang AR, Cirillo M, Daratha KB, Gansevoort RT, Garg AX, Iacoviello L, Kayama T, Konta T, Kovesdy CP, Lash J, Lee BJ, Major RW, Metzger M, Miura K, Naimark DMJ, Nelson RG, Sawhney S, Stempniewicz N, Tang M, Townsend RR, Traynor JP, Valdivielso JM, Wetzels J, Polkinghorne KR, Heerspink HJL, for the Chronic Kidney Disease Prognosis Consortium. (2020). Conversion of urine protein-creatinine ratio or urine dipstick protein to urine albumin-creatinine ratio for use in chronic kidney disease screening and prognosis. *Ann Intern Med,* *173*(6), 426-435. doi: 10.7326/M20-0529.\n",
    "\n",
    "Tangri, N., Stevens, L. A., Griffith, J., Tighiouart, H., Djurdjev, O., Naimark, D., Levin, A., & Levey, A. S. (2011). *A predictive model for progression of chronic kidney disease to kidney failure. JAMA,* 305(15), 1553-1559. doi: 10.1001/jama.2011.451.  \n",
    "\n",
    "Tangri N, Grams ME, Levey AS, Coresh J, Appel LJ, Astor BC, Chodick G, Collins AJ, Djurdjev O, Elley CR, Evans M, Garg AX, Hallan SI, Inker LA, Ito S, Jee SH, Kovesdy CP, Kronenberg F, Heerspink HJL, Marks A, Nadkarni GN, Navaneethan SD, Nelson RG, Titze S, Sarnak MJ, Stengel B, Woodward M, Iseki K, for the CKD Prognosis Consortium. (2016). *Multinational assessment of accuracy of equations for predicting risk of kidney failure: A meta-analysis. JAMA,* 315(2), 164–174. doi: 10.1001/jama.2015.18202.\n",
    "\n"
   ]
  }
 ],
 "metadata": {
  "kernelspec": {
   "display_name": "custom_conda",
   "language": "python",
   "name": "python3"
  },
  "language_info": {
   "codemirror_mode": {
    "name": "ipython",
    "version": 3
   },
   "file_extension": ".py",
   "mimetype": "text/x-python",
   "name": "python",
   "nbconvert_exporter": "python",
   "pygments_lexer": "ipython3",
   "version": "3.8.19"
  }
 },
 "nbformat": 4,
 "nbformat_minor": 2
}
