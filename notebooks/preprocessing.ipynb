{
 "cells": [
  {
   "cell_type": "markdown",
   "metadata": {},
   "source": [
    "# Preprocessing"
   ]
  },
  {
   "cell_type": "markdown",
   "metadata": {},
   "source": [
    "## Import Libraries"
   ]
  },
  {
   "cell_type": "code",
   "execution_count": 1,
   "metadata": {},
   "outputs": [],
   "source": [
    "########################### Import Requisite Libraries #########################\n",
    "import pandas as pd\n",
    "import numpy as np\n",
    "from datetime import datetime\n",
    "import os\n",
    "import sys\n",
    "import pprint\n",
    "\n",
    "################################################################################\n",
    "# Add the parent directory to sys.path to access 'functions.py'\n",
    "sys.path.append(os.path.join(os.pardir))\n",
    "from python_scripts.functions import *  # import generalized custom function\n",
    "from python_scripts.kfre import *  # import kfre-specific methods"
   ]
  },
  {
   "cell_type": "markdown",
   "metadata": {},
   "source": [
    "## Read in the Data"
   ]
  },
  {
   "cell_type": "code",
   "execution_count": 2,
   "metadata": {},
   "outputs": [
    {
     "name": "stdout",
     "output_type": "stream",
     "text": [
      "Directory exists: ..\\data\n",
      "Directory exists: ..\\images\\png_images\n",
      "Directory exists: ..\\images\\svg_images\n"
     ]
    }
   ],
   "source": [
    "base_path = os.path.join(os.pardir)\n",
    "\n",
    "# Go up one level from 'notebooks' to the parent directory, then into the 'data' folder\n",
    "data_path = os.path.join(os.pardir, \"data\")\n",
    "\n",
    "image_path_png = os.path.join(base_path, \"images\", \"png_images\")\n",
    "image_path_svg = os.path.join(base_path, \"images\", \"svg_images\")\n",
    "\n",
    "# Use the function to ensure the 'data' directory exists\n",
    "ensure_directory(data_path)\n",
    "ensure_directory(image_path_png)\n",
    "ensure_directory(image_path_svg)\n",
    "\n",
    "# Read the CSV file into a DataFrame\n",
    "df = pd.read_csv(os.path.join(data_path, \"12882_2021_2402_MOESM8_ESM.csv\"))"
   ]
  },
  {
   "cell_type": "code",
   "execution_count": 3,
   "metadata": {},
   "outputs": [],
   "source": [
    "df = add_patient_ids(df=df, seed=33)  # call the function on the df to add patient_ids"
   ]
  },
  {
   "cell_type": "code",
   "execution_count": 4,
   "metadata": {},
   "outputs": [],
   "source": [
    "# Use slicing to select all rows except the last two, then reassign it to df\n",
    "df = df[:-2]"
   ]
  },
  {
   "cell_type": "markdown",
   "metadata": {},
   "source": [
    "## Standardize Attendance Date Format"
   ]
  },
  {
   "cell_type": "code",
   "execution_count": 5,
   "metadata": {},
   "outputs": [],
   "source": [
    "date_strings = df[\"Attendance date\"].to_list()\n",
    "\n",
    "# Apply the function with the rule to the list of dates\n",
    "standardized_dates_with_rule = [parse_date_with_rule(date) for date in date_strings]\n",
    "\n",
    "# Apply the updated function to standardize the dates and create a new column\n",
    "df[\"Standardized_Date\"] = df[\"Attendance date\"].apply(parse_date_with_rule)"
   ]
  },
  {
   "cell_type": "markdown",
   "metadata": {},
   "source": [
    "## Inspect Data Types and Missing Data"
   ]
  },
  {
   "cell_type": "code",
   "execution_count": 6,
   "metadata": {},
   "outputs": [
    {
     "data": {
      "text/html": [
       "<div>\n",
       "<style scoped>\n",
       "    .dataframe tbody tr th:only-of-type {\n",
       "        vertical-align: middle;\n",
       "    }\n",
       "\n",
       "    .dataframe tbody tr th {\n",
       "        vertical-align: top;\n",
       "    }\n",
       "\n",
       "    .dataframe thead th {\n",
       "        text-align: right;\n",
       "    }\n",
       "</style>\n",
       "<table border=\"1\" class=\"dataframe\">\n",
       "  <thead>\n",
       "    <tr style=\"text-align: right;\">\n",
       "      <th></th>\n",
       "      <th>Column/Variable</th>\n",
       "      <th>Data Type</th>\n",
       "      <th># of Nulls</th>\n",
       "      <th>Percent Null</th>\n",
       "    </tr>\n",
       "  </thead>\n",
       "  <tbody>\n",
       "    <tr>\n",
       "      <th>14</th>\n",
       "      <td>RIP</td>\n",
       "      <td>float64</td>\n",
       "      <td>523</td>\n",
       "      <td>70.0</td>\n",
       "    </tr>\n",
       "    <tr>\n",
       "      <th>15</th>\n",
       "      <td>ESRD</td>\n",
       "      <td>float64</td>\n",
       "      <td>312</td>\n",
       "      <td>42.0</td>\n",
       "    </tr>\n",
       "  </tbody>\n",
       "</table>\n",
       "</div>"
      ],
      "text/plain": [
       "   Column/Variable Data Type  # of Nulls  Percent Null\n",
       "14             RIP   float64         523          70.0\n",
       "15            ESRD   float64         312          42.0"
      ]
     },
     "execution_count": 6,
     "metadata": {},
     "output_type": "execute_result"
    }
   ],
   "source": [
    "df_inspect = data_types(df)\n",
    "df_inspect[df_inspect[\"# of Nulls\"] > 0]  # inspect data for any missing values"
   ]
  },
  {
   "cell_type": "markdown",
   "metadata": {},
   "source": [
    "## Convert and Standardize Attendance Date to DateTime for EDA"
   ]
  },
  {
   "cell_type": "code",
   "execution_count": 7,
   "metadata": {},
   "outputs": [],
   "source": [
    "df[\"Att_date\"] = pd.to_datetime(df[\"Attendance date\"], format=\"%d/%m/%Y\")"
   ]
  },
  {
   "cell_type": "code",
   "execution_count": 8,
   "metadata": {},
   "outputs": [],
   "source": [
    "df[\"Standardized_Date\"] = pd.to_datetime(df[\"Standardized_Date\"])\n",
    "filtered_df = df[\n",
    "    (df[\"Standardized_Date\"] >= \"2011-09-01\")\n",
    "    & (df[\"Standardized_Date\"] <= \"2015-10-31\")\n",
    "]"
   ]
  },
  {
   "cell_type": "markdown",
   "metadata": {},
   "source": [
    "## Outcome Definition"
   ]
  },
  {
   "cell_type": "code",
   "execution_count": 9,
   "metadata": {},
   "outputs": [],
   "source": [
    "# ESRD is outcome variable; missing values in this case mean 0 (does not have)\n",
    "df[\"ESRD\"] = df[\"ESRD\"].apply(lambda x: 1 if x == 1 else 0)"
   ]
  },
  {
   "cell_type": "markdown",
   "metadata": {},
   "source": [
    "## Reclassify Renal Diseases by Category"
   ]
  },
  {
   "cell_type": "code",
   "execution_count": 10,
   "metadata": {},
   "outputs": [],
   "source": [
    "df[\"Renal_Disease\"] = df[\"Renal disease (DM=1, HTN=2, GN=3, ADPKD=4, Other=5)\"].map(\n",
    "    {1: \"DM\", 2: \"HTN\", 3: \"GN\", 4: \"APKD\", 5: \"Other\"}\n",
    ")"
   ]
  },
  {
   "cell_type": "markdown",
   "metadata": {},
   "source": [
    "## One Hot Encoding"
   ]
  },
  {
   "cell_type": "code",
   "execution_count": 11,
   "metadata": {},
   "outputs": [],
   "source": [
    "# one-hot encode sex and ethnicity\n",
    "df = df.assign(**pd.get_dummies(df[[\"SEX\", \"ETHNICITY\", \"Renal_Disease\"]]).astype(int))"
   ]
  },
  {
   "cell_type": "markdown",
   "metadata": {},
   "source": [
    "## Convert Specific Variables from mmol/L to mg/g and/or g/dL"
   ]
  },
  {
   "cell_type": "code",
   "execution_count": 12,
   "metadata": {},
   "outputs": [],
   "source": [
    "conversion_columns = {\n",
    "    \"uPCR_mmol\": \"uPCR\",\n",
    "    \"calcium_mmol\": \"Calcium (mmol/L)\",\n",
    "    \"phosphate_mmol\": \"Phosphate (mmol/L)\",\n",
    "    \"albumin_g_per_l\": \"Albumin (g/l)\",\n",
    "}\n",
    "\n",
    "predictor = RiskPredictor(data=df, columns=conversion_columns)\n",
    "predictor.perform_conversions()"
   ]
  },
  {
   "cell_type": "markdown",
   "metadata": {},
   "source": [
    "## uPCR to uACR"
   ]
  },
  {
   "cell_type": "code",
   "execution_count": 13,
   "metadata": {},
   "outputs": [],
   "source": [
    "df[\"uACR\"] = df.apply(\n",
    "    lambda row: uPCR_to_uACR(\n",
    "        row=row,\n",
    "        sex_col=\"SEX\",\n",
    "        diabetes_col=\"Diabetes (1=yes; 0=no)\",\n",
    "        hypertension_col=\"Hypertension (1=yes; 0=no)\",\n",
    "        uPCR_col=\"uPCR (mg/g)\",\n",
    "        female_str=\"Female\",\n",
    "    ),\n",
    "    axis=1,\n",
    ")"
   ]
  },
  {
   "cell_type": "markdown",
   "metadata": {},
   "source": [
    "## Binning and Creating Labels"
   ]
  },
  {
   "cell_type": "code",
   "execution_count": 14,
   "metadata": {},
   "outputs": [],
   "source": [
    "bin_ages = [0, 18, 30, 40, 50, 60, 70, 80, 90, 100, float(\"inf\")]\n",
    "label_ages = [\n",
    "    \"< 18\",\n",
    "    \"18-29\",\n",
    "    \"30-39\",\n",
    "    \"40-49\",\n",
    "    \"50-59\",\n",
    "    \"60-69\",\n",
    "    \"70-79\",\n",
    "    \"80-89\",\n",
    "    \"90-99\",\n",
    "    \"100 +\",\n",
    "]"
   ]
  },
  {
   "cell_type": "code",
   "execution_count": 15,
   "metadata": {},
   "outputs": [],
   "source": [
    "df[\"age_group\"] = pd.cut(df[\"Age\"], bins=bin_ages, labels=label_ages)"
   ]
  },
  {
   "cell_type": "code",
   "execution_count": 16,
   "metadata": {},
   "outputs": [
    {
     "name": "stdout",
     "output_type": "stream",
     "text": [
      "Index(['Attendance date', 'Age', 'SEX', 'ETHNICITY', 'Diabetes (1=yes; 0=no)',\n",
      "       'Hypertension (1=yes; 0=no)',\n",
      "       'Renal disease (DM=1, HTN=2, GN=3, ADPKD=4, Other=5)', 'eGFR-EPI',\n",
      "       'uPCR', 'Calcium (mmol/L)', 'Phosphate (mmol/L)',\n",
      "       'Bicarbonate (mmol/L)', 'Albumin (g/l)', 'Follow-up YEARS', 'RIP',\n",
      "       'ESRD', 'Standardized_Date', 'Att_date', 'Renal_Disease', 'SEX_Female',\n",
      "       'SEX_Male', 'ETHNICITY_AFRICAN (BLACK OR BLACK BRITISH)',\n",
      "       'ETHNICITY_ANY OTHER ASIAN BACKGROUND',\n",
      "       'ETHNICITY_ANY OTHER BLACK BACKGROUND',\n",
      "       'ETHNICITY_ANY OTHER ETHNIC GROUP',\n",
      "       'ETHNICITY_ANY OTHER MIXED BACKGROUND',\n",
      "       'ETHNICITY_ANY OTHER WHITE BACKGROUND',\n",
      "       'ETHNICITY_BANGLADESHI (ASIAN OR ASIAN BRITISH)',\n",
      "       'ETHNICITY_CARIBBEAN (BLACK OR BLACK BRITISH)',\n",
      "       'ETHNICITY_CHINESE (OTHER ETHNIC GROUPS)',\n",
      "       'ETHNICITY_INDIAN (ASIAN OR ASIAN BRITISH)', 'ETHNICITY_NOT STATED',\n",
      "       'ETHNICITY_PAKISTANI (ASIAN OR ASIAN BRITISH)',\n",
      "       'ETHNICITY_WHITE AND BLACK AFRICAN (MIXED)', 'ETHNICITY_WHITE BRITISH',\n",
      "       'ETHNICITY_WHITE IRISH', 'Renal_Disease_APKD', 'Renal_Disease_DM',\n",
      "       'Renal_Disease_GN', 'Renal_Disease_HTN', 'Renal_Disease_Other',\n",
      "       'uPCR (mg/g)', 'Calcium (mg/g)', 'Phosphate (mg/g)', 'Albumin (g/dL)',\n",
      "       'uACR', 'age_group'],\n",
      "      dtype='object')\n"
     ]
    }
   ],
   "source": [
    "pprint.pp(df.columns)"
   ]
  },
  {
   "cell_type": "markdown",
   "metadata": {},
   "source": [
    "## Prepare Dataframes for Output"
   ]
  },
  {
   "cell_type": "code",
   "execution_count": 17,
   "metadata": {},
   "outputs": [],
   "source": [
    "df_eda = df.copy(deep=True)  # copy df that was worked on for further EDA\n",
    "# isolate numeric datatypes as finalized preprocessed df that can be used for ML\n",
    "df = df.select_dtypes(np.number)"
   ]
  },
  {
   "cell_type": "markdown",
   "metadata": {},
   "source": [
    "## Save Dataframes to Path"
   ]
  },
  {
   "cell_type": "code",
   "execution_count": 18,
   "metadata": {},
   "outputs": [],
   "source": [
    "df_eda.to_parquet(os.path.join(data_path, \"df_eda.parquet\"))  # save eda  df\n",
    "df.to_parquet(os.path.join(data_path, \"df.parquet\"))  # save preprocessed num. df"
   ]
  }
 ],
 "metadata": {
  "kernelspec": {
   "display_name": "custom_conda",
   "language": "python",
   "name": "python3"
  },
  "language_info": {
   "codemirror_mode": {
    "name": "ipython",
    "version": 3
   },
   "file_extension": ".py",
   "mimetype": "text/x-python",
   "name": "python",
   "nbconvert_exporter": "python",
   "pygments_lexer": "ipython3",
   "version": "3.8.3"
  }
 },
 "nbformat": 4,
 "nbformat_minor": 2
}
