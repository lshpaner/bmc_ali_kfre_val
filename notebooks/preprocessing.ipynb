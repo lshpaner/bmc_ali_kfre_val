{
 "cells": [
  {
   "cell_type": "markdown",
   "metadata": {},
   "source": [
    "# Preprocessing"
   ]
  },
  {
   "cell_type": "markdown",
   "metadata": {},
   "source": [
    "## Import Libraries"
   ]
  },
  {
   "cell_type": "code",
   "execution_count": 1,
   "metadata": {},
   "outputs": [],
   "source": [
    "########################### Import Requisite Libraries #########################\n",
    "import pandas as pd\n",
    "import numpy as np\n",
    "import os\n",
    "import sys\n",
    "import pprint\n",
    "\n",
    "################################################################################\n",
    "# Add the parent directory to sys.path to access 'functions.py'\n",
    "sys.path.append(os.path.join(os.pardir))\n",
    "from python_scripts.functions import *  # import generalized custom function\n",
    "from python_scripts.kfre import *  # import kfre-specific methods"
   ]
  },
  {
   "cell_type": "markdown",
   "metadata": {},
   "source": [
    "## Read in the Data"
   ]
  },
  {
   "cell_type": "code",
   "execution_count": 2,
   "metadata": {},
   "outputs": [
    {
     "name": "stdout",
     "output_type": "stream",
     "text": [
      "Directory exists: ..\\data\n",
      "Directory exists: ..\\images\\png_images\n",
      "Directory exists: ..\\images\\svg_images\n"
     ]
    }
   ],
   "source": [
    "base_path = os.path.join(os.pardir)\n",
    "\n",
    "# Go up one level from 'notebooks' to the parent directory, then into the 'data' folder\n",
    "data_path = os.path.join(os.pardir, \"data\")\n",
    "\n",
    "image_path_png = os.path.join(base_path, \"images\", \"png_images\")\n",
    "image_path_svg = os.path.join(base_path, \"images\", \"svg_images\")\n",
    "\n",
    "# Use the function to ensure the 'data' directory exists\n",
    "ensure_directory(data_path)\n",
    "ensure_directory(image_path_png)\n",
    "ensure_directory(image_path_svg)\n",
    "\n",
    "# Read the CSV file into a DataFrame\n",
    "df = pd.read_csv(os.path.join(data_path, \"12882_2021_2402_MOESM8_ESM.csv\"))"
   ]
  },
  {
   "cell_type": "code",
   "execution_count": 3,
   "metadata": {},
   "outputs": [],
   "source": [
    "df = add_patient_ids(df=df, seed=33)  # call the function on the df to add patient_ids"
   ]
  },
  {
   "cell_type": "code",
   "execution_count": 4,
   "metadata": {},
   "outputs": [],
   "source": [
    "# Use slicing to select all rows except the last two, then reassign it to df\n",
    "df = df[:-2]"
   ]
  },
  {
   "cell_type": "code",
   "execution_count": 5,
   "metadata": {},
   "outputs": [
    {
     "data": {
      "text/html": [
       "<div>\n",
       "<style scoped>\n",
       "    .dataframe tbody tr th:only-of-type {\n",
       "        vertical-align: middle;\n",
       "    }\n",
       "\n",
       "    .dataframe tbody tr th {\n",
       "        vertical-align: top;\n",
       "    }\n",
       "\n",
       "    .dataframe thead th {\n",
       "        text-align: right;\n",
       "    }\n",
       "</style>\n",
       "<table border=\"1\" class=\"dataframe\">\n",
       "  <thead>\n",
       "    <tr style=\"text-align: right;\">\n",
       "      <th></th>\n",
       "      <th>Attendance date</th>\n",
       "      <th>Age</th>\n",
       "      <th>SEX</th>\n",
       "      <th>ETHNICITY</th>\n",
       "      <th>Diabetes (1=yes; 0=no)</th>\n",
       "      <th>Hypertension (1=yes; 0=no)</th>\n",
       "      <th>Renal disease (DM=1, HTN=2, GN=3, ADPKD=4, Other=5)</th>\n",
       "      <th>eGFR-EPI</th>\n",
       "      <th>uPCR</th>\n",
       "      <th>Calcium (mmol/L)</th>\n",
       "      <th>Phosphate (mmol/L)</th>\n",
       "      <th>Bicarbonate (mmol/L)</th>\n",
       "      <th>Albumin (g/l)</th>\n",
       "      <th>Follow-up YEARS</th>\n",
       "      <th>RIP</th>\n",
       "      <th>ESRD</th>\n",
       "    </tr>\n",
       "    <tr>\n",
       "      <th>Patient_ID</th>\n",
       "      <th></th>\n",
       "      <th></th>\n",
       "      <th></th>\n",
       "      <th></th>\n",
       "      <th></th>\n",
       "      <th></th>\n",
       "      <th></th>\n",
       "      <th></th>\n",
       "      <th></th>\n",
       "      <th></th>\n",
       "      <th></th>\n",
       "      <th></th>\n",
       "      <th></th>\n",
       "      <th></th>\n",
       "      <th></th>\n",
       "      <th></th>\n",
       "    </tr>\n",
       "  </thead>\n",
       "  <tbody>\n",
       "    <tr>\n",
       "      <th>568268916</th>\n",
       "      <td>11/02/2015</td>\n",
       "      <td>87.24</td>\n",
       "      <td>Male</td>\n",
       "      <td>WHITE BRITISH</td>\n",
       "      <td>1.0</td>\n",
       "      <td>1.0</td>\n",
       "      <td>1.0</td>\n",
       "      <td>19.0</td>\n",
       "      <td>33.0</td>\n",
       "      <td>2.78</td>\n",
       "      <td>0.88</td>\n",
       "      <td>27.2</td>\n",
       "      <td>37.0</td>\n",
       "      <td>5.7</td>\n",
       "      <td>NaN</td>\n",
       "      <td>NaN</td>\n",
       "    </tr>\n",
       "    <tr>\n",
       "      <th>659549633</th>\n",
       "      <td>06/05/2015</td>\n",
       "      <td>56.88</td>\n",
       "      <td>Female</td>\n",
       "      <td>WHITE BRITISH</td>\n",
       "      <td>0.0</td>\n",
       "      <td>1.0</td>\n",
       "      <td>5.0</td>\n",
       "      <td>15.0</td>\n",
       "      <td>395.0</td>\n",
       "      <td>2.43</td>\n",
       "      <td>1.02</td>\n",
       "      <td>21.3</td>\n",
       "      <td>30.0</td>\n",
       "      <td>1.5</td>\n",
       "      <td>NaN</td>\n",
       "      <td>1.0</td>\n",
       "    </tr>\n",
       "    <tr>\n",
       "      <th>406748956</th>\n",
       "      <td>04/05/2016</td>\n",
       "      <td>66.53</td>\n",
       "      <td>Female</td>\n",
       "      <td>WHITE BRITISH</td>\n",
       "      <td>0.0</td>\n",
       "      <td>1.0</td>\n",
       "      <td>3.0</td>\n",
       "      <td>17.0</td>\n",
       "      <td>163.0</td>\n",
       "      <td>2.33</td>\n",
       "      <td>1.24</td>\n",
       "      <td>27.8</td>\n",
       "      <td>36.0</td>\n",
       "      <td>0.6</td>\n",
       "      <td>1.0</td>\n",
       "      <td>NaN</td>\n",
       "    </tr>\n",
       "    <tr>\n",
       "      <th>109228713</th>\n",
       "      <td>16/11/2011</td>\n",
       "      <td>69.92</td>\n",
       "      <td>Male</td>\n",
       "      <td>WHITE IRISH</td>\n",
       "      <td>0.0</td>\n",
       "      <td>1.0</td>\n",
       "      <td>3.0</td>\n",
       "      <td>12.0</td>\n",
       "      <td>250.0</td>\n",
       "      <td>2.29</td>\n",
       "      <td>1.80</td>\n",
       "      <td>20.7</td>\n",
       "      <td>39.0</td>\n",
       "      <td>1.1</td>\n",
       "      <td>NaN</td>\n",
       "      <td>1.0</td>\n",
       "    </tr>\n",
       "    <tr>\n",
       "      <th>220533110</th>\n",
       "      <td>02/05/2018</td>\n",
       "      <td>81.14</td>\n",
       "      <td>Female</td>\n",
       "      <td>WHITE BRITISH</td>\n",
       "      <td>1.0</td>\n",
       "      <td>1.0</td>\n",
       "      <td>1.0</td>\n",
       "      <td>15.0</td>\n",
       "      <td>217.0</td>\n",
       "      <td>2.45</td>\n",
       "      <td>1.39</td>\n",
       "      <td>26.2</td>\n",
       "      <td>43.0</td>\n",
       "      <td>2.5</td>\n",
       "      <td>NaN</td>\n",
       "      <td>NaN</td>\n",
       "    </tr>\n",
       "    <tr>\n",
       "      <th>...</th>\n",
       "      <td>...</td>\n",
       "      <td>...</td>\n",
       "      <td>...</td>\n",
       "      <td>...</td>\n",
       "      <td>...</td>\n",
       "      <td>...</td>\n",
       "      <td>...</td>\n",
       "      <td>...</td>\n",
       "      <td>...</td>\n",
       "      <td>...</td>\n",
       "      <td>...</td>\n",
       "      <td>...</td>\n",
       "      <td>...</td>\n",
       "      <td>...</td>\n",
       "      <td>...</td>\n",
       "      <td>...</td>\n",
       "    </tr>\n",
       "    <tr>\n",
       "      <th>708268897</th>\n",
       "      <td>28/10/2015</td>\n",
       "      <td>68.45</td>\n",
       "      <td>Female</td>\n",
       "      <td>WHITE BRITISH</td>\n",
       "      <td>0.0</td>\n",
       "      <td>1.0</td>\n",
       "      <td>3.0</td>\n",
       "      <td>23.0</td>\n",
       "      <td>731.0</td>\n",
       "      <td>2.38</td>\n",
       "      <td>0.53</td>\n",
       "      <td>27.8</td>\n",
       "      <td>24.0</td>\n",
       "      <td>4.5</td>\n",
       "      <td>1.0</td>\n",
       "      <td>NaN</td>\n",
       "    </tr>\n",
       "    <tr>\n",
       "      <th>019128787</th>\n",
       "      <td>23/11/2015</td>\n",
       "      <td>32.26</td>\n",
       "      <td>Female</td>\n",
       "      <td>WHITE BRITISH</td>\n",
       "      <td>0.0</td>\n",
       "      <td>1.0</td>\n",
       "      <td>5.0</td>\n",
       "      <td>16.0</td>\n",
       "      <td>676.0</td>\n",
       "      <td>2.46</td>\n",
       "      <td>1.51</td>\n",
       "      <td>21.3</td>\n",
       "      <td>41.0</td>\n",
       "      <td>0.8</td>\n",
       "      <td>NaN</td>\n",
       "      <td>1.0</td>\n",
       "    </tr>\n",
       "    <tr>\n",
       "      <th>371958631</th>\n",
       "      <td>18/01/2016</td>\n",
       "      <td>72.34</td>\n",
       "      <td>Male</td>\n",
       "      <td>WHITE BRITISH</td>\n",
       "      <td>1.0</td>\n",
       "      <td>1.0</td>\n",
       "      <td>1.0</td>\n",
       "      <td>20.0</td>\n",
       "      <td>630.0</td>\n",
       "      <td>2.51</td>\n",
       "      <td>0.96</td>\n",
       "      <td>22.9</td>\n",
       "      <td>40.0</td>\n",
       "      <td>1.9</td>\n",
       "      <td>1.0</td>\n",
       "      <td>NaN</td>\n",
       "    </tr>\n",
       "    <tr>\n",
       "      <th>271875856</th>\n",
       "      <td>23/05/2018</td>\n",
       "      <td>73.10</td>\n",
       "      <td>Female</td>\n",
       "      <td>ANY OTHER MIXED BACKGROUND</td>\n",
       "      <td>1.0</td>\n",
       "      <td>1.0</td>\n",
       "      <td>1.0</td>\n",
       "      <td>13.0</td>\n",
       "      <td>1104.0</td>\n",
       "      <td>2.24</td>\n",
       "      <td>1.37</td>\n",
       "      <td>29.1</td>\n",
       "      <td>31.0</td>\n",
       "      <td>0.7</td>\n",
       "      <td>1.0</td>\n",
       "      <td>NaN</td>\n",
       "    </tr>\n",
       "    <tr>\n",
       "      <th>922747018</th>\n",
       "      <td>14/06/2017</td>\n",
       "      <td>49.23</td>\n",
       "      <td>Male</td>\n",
       "      <td>WHITE BRITISH</td>\n",
       "      <td>1.0</td>\n",
       "      <td>1.0</td>\n",
       "      <td>1.0</td>\n",
       "      <td>19.0</td>\n",
       "      <td>683.0</td>\n",
       "      <td>2.32</td>\n",
       "      <td>1.74</td>\n",
       "      <td>18.4</td>\n",
       "      <td>35.0</td>\n",
       "      <td>0.5</td>\n",
       "      <td>1.0</td>\n",
       "      <td>NaN</td>\n",
       "    </tr>\n",
       "  </tbody>\n",
       "</table>\n",
       "<p>743 rows × 16 columns</p>\n",
       "</div>"
      ],
      "text/plain": [
       "           Attendance date    Age     SEX                   ETHNICITY  \\\n",
       "Patient_ID                                                              \n",
       "568268916       11/02/2015  87.24    Male               WHITE BRITISH   \n",
       "659549633       06/05/2015  56.88  Female               WHITE BRITISH   \n",
       "406748956       04/05/2016  66.53  Female               WHITE BRITISH   \n",
       "109228713       16/11/2011  69.92    Male                 WHITE IRISH   \n",
       "220533110       02/05/2018  81.14  Female               WHITE BRITISH   \n",
       "...                    ...    ...     ...                         ...   \n",
       "708268897       28/10/2015  68.45  Female               WHITE BRITISH   \n",
       "019128787       23/11/2015  32.26  Female               WHITE BRITISH   \n",
       "371958631       18/01/2016  72.34    Male               WHITE BRITISH   \n",
       "271875856       23/05/2018  73.10  Female  ANY OTHER MIXED BACKGROUND   \n",
       "922747018       14/06/2017  49.23    Male               WHITE BRITISH   \n",
       "\n",
       "            Diabetes (1=yes; 0=no)  Hypertension (1=yes; 0=no)  \\\n",
       "Patient_ID                                                       \n",
       "568268916                      1.0                         1.0   \n",
       "659549633                      0.0                         1.0   \n",
       "406748956                      0.0                         1.0   \n",
       "109228713                      0.0                         1.0   \n",
       "220533110                      1.0                         1.0   \n",
       "...                            ...                         ...   \n",
       "708268897                      0.0                         1.0   \n",
       "019128787                      0.0                         1.0   \n",
       "371958631                      1.0                         1.0   \n",
       "271875856                      1.0                         1.0   \n",
       "922747018                      1.0                         1.0   \n",
       "\n",
       "            Renal disease (DM=1, HTN=2, GN=3, ADPKD=4, Other=5)  eGFR-EPI  \\\n",
       "Patient_ID                                                                  \n",
       "568268916                                                 1.0        19.0   \n",
       "659549633                                                 5.0        15.0   \n",
       "406748956                                                 3.0        17.0   \n",
       "109228713                                                 3.0        12.0   \n",
       "220533110                                                 1.0        15.0   \n",
       "...                                                       ...         ...   \n",
       "708268897                                                 3.0        23.0   \n",
       "019128787                                                 5.0        16.0   \n",
       "371958631                                                 1.0        20.0   \n",
       "271875856                                                 1.0        13.0   \n",
       "922747018                                                 1.0        19.0   \n",
       "\n",
       "              uPCR  Calcium (mmol/L)  Phosphate (mmol/L)  \\\n",
       "Patient_ID                                                 \n",
       "568268916     33.0              2.78                0.88   \n",
       "659549633    395.0              2.43                1.02   \n",
       "406748956    163.0              2.33                1.24   \n",
       "109228713    250.0              2.29                1.80   \n",
       "220533110    217.0              2.45                1.39   \n",
       "...            ...               ...                 ...   \n",
       "708268897    731.0              2.38                0.53   \n",
       "019128787    676.0              2.46                1.51   \n",
       "371958631    630.0              2.51                0.96   \n",
       "271875856   1104.0              2.24                1.37   \n",
       "922747018    683.0              2.32                1.74   \n",
       "\n",
       "            Bicarbonate (mmol/L)  Albumin (g/l)  Follow-up YEARS  RIP  ESRD  \n",
       "Patient_ID                                                                   \n",
       "568268916                   27.2           37.0              5.7  NaN   NaN  \n",
       "659549633                   21.3           30.0              1.5  NaN   1.0  \n",
       "406748956                   27.8           36.0              0.6  1.0   NaN  \n",
       "109228713                   20.7           39.0              1.1  NaN   1.0  \n",
       "220533110                   26.2           43.0              2.5  NaN   NaN  \n",
       "...                          ...            ...              ...  ...   ...  \n",
       "708268897                   27.8           24.0              4.5  1.0   NaN  \n",
       "019128787                   21.3           41.0              0.8  NaN   1.0  \n",
       "371958631                   22.9           40.0              1.9  1.0   NaN  \n",
       "271875856                   29.1           31.0              0.7  1.0   NaN  \n",
       "922747018                   18.4           35.0              0.5  1.0   NaN  \n",
       "\n",
       "[743 rows x 16 columns]"
      ]
     },
     "execution_count": 5,
     "metadata": {},
     "output_type": "execute_result"
    }
   ],
   "source": [
    "df"
   ]
  },
  {
   "cell_type": "markdown",
   "metadata": {},
   "source": [
    "## Inspect Data Types and Missing Data"
   ]
  },
  {
   "cell_type": "code",
   "execution_count": 6,
   "metadata": {},
   "outputs": [
    {
     "data": {
      "text/html": [
       "<div>\n",
       "<style scoped>\n",
       "    .dataframe tbody tr th:only-of-type {\n",
       "        vertical-align: middle;\n",
       "    }\n",
       "\n",
       "    .dataframe tbody tr th {\n",
       "        vertical-align: top;\n",
       "    }\n",
       "\n",
       "    .dataframe thead th {\n",
       "        text-align: right;\n",
       "    }\n",
       "</style>\n",
       "<table border=\"1\" class=\"dataframe\">\n",
       "  <thead>\n",
       "    <tr style=\"text-align: right;\">\n",
       "      <th></th>\n",
       "      <th>Column/Variable</th>\n",
       "      <th>Data Type</th>\n",
       "      <th># of Nulls</th>\n",
       "      <th>Percent Null</th>\n",
       "    </tr>\n",
       "  </thead>\n",
       "  <tbody>\n",
       "    <tr>\n",
       "      <th>14</th>\n",
       "      <td>RIP</td>\n",
       "      <td>float64</td>\n",
       "      <td>523</td>\n",
       "      <td>70.0</td>\n",
       "    </tr>\n",
       "    <tr>\n",
       "      <th>15</th>\n",
       "      <td>ESRD</td>\n",
       "      <td>float64</td>\n",
       "      <td>312</td>\n",
       "      <td>42.0</td>\n",
       "    </tr>\n",
       "  </tbody>\n",
       "</table>\n",
       "</div>"
      ],
      "text/plain": [
       "   Column/Variable Data Type  # of Nulls  Percent Null\n",
       "14             RIP   float64         523          70.0\n",
       "15            ESRD   float64         312          42.0"
      ]
     },
     "execution_count": 6,
     "metadata": {},
     "output_type": "execute_result"
    }
   ],
   "source": [
    "df_inspect = data_types(df)\n",
    "df_inspect[df_inspect[\"# of Nulls\"] > 0]  # inspect data for any missing values"
   ]
  },
  {
   "cell_type": "markdown",
   "metadata": {},
   "source": [
    "## Convert Attendance Date to DateTime for EDA"
   ]
  },
  {
   "cell_type": "code",
   "execution_count": 7,
   "metadata": {},
   "outputs": [],
   "source": [
    "df[\"Att_date\"] = pd.to_datetime(df[\"Attendance date\"], format=\"%d/%m/%Y\")"
   ]
  },
  {
   "cell_type": "markdown",
   "metadata": {},
   "source": [
    "## Outcome Definition"
   ]
  },
  {
   "cell_type": "code",
   "execution_count": 8,
   "metadata": {},
   "outputs": [],
   "source": [
    "# ESRD is outcome variable; missing values in this case mean 0 (does not have)\n",
    "df[\"ESRD\"] = df[\"ESRD\"].apply(lambda x: 1 if x == 1 else 0)"
   ]
  },
  {
   "cell_type": "markdown",
   "metadata": {},
   "source": [
    "## Reclassify Renal Diseases by Category"
   ]
  },
  {
   "cell_type": "code",
   "execution_count": 9,
   "metadata": {},
   "outputs": [],
   "source": [
    "df[\"Renal_Disease\"] = df[\"Renal disease (DM=1, HTN=2, GN=3, ADPKD=4, Other=5)\"].map(\n",
    "    {1: \"DM\", 2: \"HTN\", 3: \"GN\", 4: \"APKD\", 5: \"Other\"}\n",
    ")"
   ]
  },
  {
   "cell_type": "markdown",
   "metadata": {},
   "source": [
    "## One Hot Encoding"
   ]
  },
  {
   "cell_type": "code",
   "execution_count": 10,
   "metadata": {},
   "outputs": [],
   "source": [
    "# one-hot encode sex and ethnicity\n",
    "df = df.assign(**pd.get_dummies(df[[\"SEX\", \"ETHNICITY\", \"Renal_Disease\"]]).astype(int))"
   ]
  },
  {
   "cell_type": "markdown",
   "metadata": {},
   "source": [
    "## uPCR to uACR"
   ]
  },
  {
   "cell_type": "code",
   "execution_count": 11,
   "metadata": {},
   "outputs": [],
   "source": [
    "df[\"uACR\"] = df.apply(\n",
    "    lambda row: uPCR_to_uACR(\n",
    "        row=row,\n",
    "        sex_col=\"SEX\",\n",
    "        diabetes_col=\"Diabetes (1=yes; 0=no)\",\n",
    "        hypertension_col=\"Hypertension (1=yes; 0=no)\",\n",
    "        uPCR_col=\"uPCR\",\n",
    "        female_str=\"Female\",\n",
    "    ),\n",
    "    axis=1,\n",
    ")"
   ]
  },
  {
   "cell_type": "code",
   "execution_count": 12,
   "metadata": {},
   "outputs": [
    {
     "name": "stdout",
     "output_type": "stream",
     "text": [
      "\n",
      " Minimum uACR: 2.6311247983246746  \n",
      " Maximum uACR: 1313.3344671334028\n"
     ]
    }
   ],
   "source": [
    "# confirm new column by printing the min and max values\n",
    "print(f\"\\n Minimum uACR: {df['uACR'].min()}  \\n Maximum uACR: {df['uACR'].max()}\")"
   ]
  },
  {
   "cell_type": "markdown",
   "metadata": {},
   "source": [
    "## Binning and Creating Labels"
   ]
  },
  {
   "cell_type": "code",
   "execution_count": 13,
   "metadata": {},
   "outputs": [],
   "source": [
    "bin_ages = [0, 18, 30, 40, 50, 60, 70, 80, 90, 100, float(\"inf\")]\n",
    "label_ages = [\n",
    "    \"< 18\",\n",
    "    \"18-29\",\n",
    "    \"30-39\",\n",
    "    \"40-49\",\n",
    "    \"50-59\",\n",
    "    \"60-69\",\n",
    "    \"70-79\",\n",
    "    \"80-89\",\n",
    "    \"90-99\",\n",
    "    \"100 +\",\n",
    "]"
   ]
  },
  {
   "cell_type": "code",
   "execution_count": 14,
   "metadata": {},
   "outputs": [],
   "source": [
    "df[\"age_group\"] = pd.cut(df[\"Age\"], bins=bin_ages, labels=label_ages)"
   ]
  },
  {
   "cell_type": "code",
   "execution_count": 15,
   "metadata": {},
   "outputs": [
    {
     "name": "stdout",
     "output_type": "stream",
     "text": [
      "Index(['Attendance date', 'Age', 'SEX', 'ETHNICITY', 'Diabetes (1=yes; 0=no)',\n",
      "       'Hypertension (1=yes; 0=no)',\n",
      "       'Renal disease (DM=1, HTN=2, GN=3, ADPKD=4, Other=5)', 'eGFR-EPI',\n",
      "       'uPCR', 'Calcium (mmol/L)', 'Phosphate (mmol/L)',\n",
      "       'Bicarbonate (mmol/L)', 'Albumin (g/l)', 'Follow-up YEARS', 'RIP',\n",
      "       'ESRD', 'Att_date', 'Renal_Disease', 'SEX_Female', 'SEX_Male',\n",
      "       'ETHNICITY_AFRICAN (BLACK OR BLACK BRITISH)',\n",
      "       'ETHNICITY_ANY OTHER ASIAN BACKGROUND',\n",
      "       'ETHNICITY_ANY OTHER BLACK BACKGROUND',\n",
      "       'ETHNICITY_ANY OTHER ETHNIC GROUP',\n",
      "       'ETHNICITY_ANY OTHER MIXED BACKGROUND',\n",
      "       'ETHNICITY_ANY OTHER WHITE BACKGROUND',\n",
      "       'ETHNICITY_BANGLADESHI (ASIAN OR ASIAN BRITISH)',\n",
      "       'ETHNICITY_CARIBBEAN (BLACK OR BLACK BRITISH)',\n",
      "       'ETHNICITY_CHINESE (OTHER ETHNIC GROUPS)',\n",
      "       'ETHNICITY_INDIAN (ASIAN OR ASIAN BRITISH)', 'ETHNICITY_NOT STATED',\n",
      "       'ETHNICITY_PAKISTANI (ASIAN OR ASIAN BRITISH)',\n",
      "       'ETHNICITY_WHITE AND BLACK AFRICAN (MIXED)', 'ETHNICITY_WHITE BRITISH',\n",
      "       'ETHNICITY_WHITE IRISH', 'Renal_Disease_APKD', 'Renal_Disease_DM',\n",
      "       'Renal_Disease_GN', 'Renal_Disease_HTN', 'Renal_Disease_Other', 'uACR',\n",
      "       'age_group'],\n",
      "      dtype='object')\n"
     ]
    }
   ],
   "source": [
    "pprint.pp(df.columns)"
   ]
  },
  {
   "cell_type": "markdown",
   "metadata": {},
   "source": [
    "## Prepare Dataframes for Output"
   ]
  },
  {
   "cell_type": "code",
   "execution_count": 16,
   "metadata": {},
   "outputs": [],
   "source": [
    "df_eda = df.copy(deep=True)  # copy df that was worked on for further EDA\n",
    "# isolate numeric datatypes as finalized preprocessed df that can be used for ML\n",
    "df = df.select_dtypes(np.number)"
   ]
  },
  {
   "cell_type": "markdown",
   "metadata": {},
   "source": [
    "## Save Dataframes to Path"
   ]
  },
  {
   "cell_type": "code",
   "execution_count": 17,
   "metadata": {},
   "outputs": [],
   "source": [
    "df_eda.to_parquet(os.path.join(data_path, \"df_eda.parquet\"))  # save eda  df\n",
    "df.to_parquet(os.path.join(data_path, \"df.parquet\"))  # save preprocessed num. df"
   ]
  }
 ],
 "metadata": {
  "kernelspec": {
   "display_name": "custom_conda",
   "language": "python",
   "name": "python3"
  },
  "language_info": {
   "codemirror_mode": {
    "name": "ipython",
    "version": 3
   },
   "file_extension": ".py",
   "mimetype": "text/x-python",
   "name": "python",
   "nbconvert_exporter": "python",
   "pygments_lexer": "ipython3",
   "version": "3.8.19"
  }
 },
 "nbformat": 4,
 "nbformat_minor": 2
}
